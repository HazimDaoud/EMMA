{
 "cells": [
  {
   "cell_type": "code",
   "execution_count": 1,
   "id": "bbf4ac68-2c5f-40d1-960d-6d4b669a541c",
   "metadata": {},
   "outputs": [],
   "source": [
    "%pwd\n",
    "import pandas as pd\n",
    "import seaborn as sns\n",
    "import numpy as np\n",
    "import matplotlib.pyplot as plt\n",
    "from sklearn.preprocessing import MinMaxScaler\n",
    "from sklearn.model_selection import train_test_split\n",
    "from sklearn.preprocessing import LabelEncoder\n",
    "from keras.utils import to_categorical\n",
    "from tensorflow.keras import models, layers\n",
    "from sklearn.metrics import confusion_matrix\n",
    "import os\n",
    "#you need to adjust the paths until it gets properly fixed, and run the labelling script for the mobifall."
   ]
  },
  {
   "cell_type": "code",
   "execution_count": 2,
   "id": "05ea4da5-08e7-4b16-87bd-24cc70bde335",
   "metadata": {},
   "outputs": [
    {
     "data": {
      "text/plain": [
       "'D:\\\\TUDarmstadt\\\\DSII\\\\workspace\\\\fallDetection\\\\software\\\\notebooks'"
      ]
     },
     "execution_count": 2,
     "metadata": {},
     "output_type": "execute_result"
    }
   ],
   "source": [
    "%pwd"
   ]
  },
  {
   "cell_type": "code",
   "execution_count": 3,
   "id": "3c510cba-6f3e-4ebe-9bf6-ba004f291847",
   "metadata": {},
   "outputs": [
    {
     "name": "stdout",
     "output_type": "stream",
     "text": [
      "D:\\TUDarmstadt\\DSII\\workspace\\fallDetection\\software\n"
     ]
    }
   ],
   "source": [
    "%cd .."
   ]
  },
  {
   "cell_type": "code",
   "execution_count": 4,
   "id": "4ad29e7f-a66f-4e71-8c8f-8a457374791a",
   "metadata": {},
   "outputs": [
    {
     "name": "stdout",
     "output_type": "stream",
     "text": [
      "D:\\TUDarmstadt\\DSII\\workspace\\fallDetection\\software\\dataPreprocessing\n"
     ]
    }
   ],
   "source": [
    "%cd dataPreprocessing/"
   ]
  },
  {
   "cell_type": "code",
   "execution_count": 5,
   "id": "f54b9031-b942-4721-8202-0b2cf72a9955",
   "metadata": {},
   "outputs": [],
   "source": [
    "from labellingData import readSubsCsvs\n",
    "from normalizeData import normalizeDfCols\n",
    "import matplotlib.pyplot as plt"
   ]
  },
  {
   "cell_type": "code",
   "execution_count": 6,
   "id": "ba536359-f874-48e3-a52e-243e720b4447",
   "metadata": {},
   "outputs": [
    {
     "name": "stdout",
     "output_type": "stream",
     "text": [
      "D:\\TUDarmstadt\\DSII\\workspace\\fallDetection\\software\n",
      "D:\\TUDarmstadt\\DSII\\workspace\\fallDetection\n"
     ]
    }
   ],
   "source": [
    "%cd ..\n",
    "%cd .."
   ]
  },
  {
   "cell_type": "code",
   "execution_count": 7,
   "id": "37917993-2727-4ed7-9426-62f9132a51df",
   "metadata": {},
   "outputs": [
    {
     "data": {
      "text/html": [
       "<div>\n",
       "<style scoped>\n",
       "    .dataframe tbody tr th:only-of-type {\n",
       "        vertical-align: middle;\n",
       "    }\n",
       "\n",
       "    .dataframe tbody tr th {\n",
       "        vertical-align: top;\n",
       "    }\n",
       "\n",
       "    .dataframe thead th {\n",
       "        text-align: right;\n",
       "    }\n",
       "</style>\n",
       "<table border=\"1\" class=\"dataframe\">\n",
       "  <thead>\n",
       "    <tr style=\"text-align: right;\">\n",
       "      <th></th>\n",
       "      <th>timestamp</th>\n",
       "      <th>accelerometer_x</th>\n",
       "      <th>accelerometer_y</th>\n",
       "      <th>accelerometer_z</th>\n",
       "      <th>id</th>\n",
       "      <th>Name</th>\n",
       "      <th>Age</th>\n",
       "      <th>Height</th>\n",
       "      <th>Weight</th>\n",
       "      <th>Gender</th>\n",
       "      <th>fall</th>\n",
       "    </tr>\n",
       "  </thead>\n",
       "  <tbody>\n",
       "    <tr>\n",
       "      <th>0</th>\n",
       "      <td>2318482693000</td>\n",
       "      <td>0.890643</td>\n",
       "      <td>-9.576807</td>\n",
       "      <td>-0.019154</td>\n",
       "      <td>1</td>\n",
       "      <td>sub1</td>\n",
       "      <td>32</td>\n",
       "      <td>180</td>\n",
       "      <td>85</td>\n",
       "      <td>Male</td>\n",
       "      <td>12</td>\n",
       "    </tr>\n",
       "    <tr>\n",
       "      <th>1</th>\n",
       "      <td>2318492108000</td>\n",
       "      <td>0.919373</td>\n",
       "      <td>-9.595961</td>\n",
       "      <td>-0.057461</td>\n",
       "      <td>1</td>\n",
       "      <td>sub1</td>\n",
       "      <td>32</td>\n",
       "      <td>180</td>\n",
       "      <td>85</td>\n",
       "      <td>Male</td>\n",
       "      <td>12</td>\n",
       "    </tr>\n",
       "    <tr>\n",
       "      <th>2</th>\n",
       "      <td>2318503365000</td>\n",
       "      <td>0.871489</td>\n",
       "      <td>-9.595961</td>\n",
       "      <td>-0.057461</td>\n",
       "      <td>1</td>\n",
       "      <td>sub1</td>\n",
       "      <td>32</td>\n",
       "      <td>180</td>\n",
       "      <td>85</td>\n",
       "      <td>Male</td>\n",
       "      <td>12</td>\n",
       "    </tr>\n",
       "    <tr>\n",
       "      <th>3</th>\n",
       "      <td>2318512831000</td>\n",
       "      <td>0.852336</td>\n",
       "      <td>-9.643845</td>\n",
       "      <td>-0.038307</td>\n",
       "      <td>1</td>\n",
       "      <td>sub1</td>\n",
       "      <td>32</td>\n",
       "      <td>180</td>\n",
       "      <td>85</td>\n",
       "      <td>Male</td>\n",
       "      <td>12</td>\n",
       "    </tr>\n",
       "    <tr>\n",
       "      <th>4</th>\n",
       "      <td>2318523222000</td>\n",
       "      <td>0.871489</td>\n",
       "      <td>-9.634268</td>\n",
       "      <td>-0.057461</td>\n",
       "      <td>1</td>\n",
       "      <td>sub1</td>\n",
       "      <td>32</td>\n",
       "      <td>180</td>\n",
       "      <td>85</td>\n",
       "      <td>Male</td>\n",
       "      <td>12</td>\n",
       "    </tr>\n",
       "  </tbody>\n",
       "</table>\n",
       "</div>"
      ],
      "text/plain": [
       "       timestamp  accelerometer_x  accelerometer_y  accelerometer_z  id  \\\n",
       "0  2318482693000         0.890643        -9.576807        -0.019154   1   \n",
       "1  2318492108000         0.919373        -9.595961        -0.057461   1   \n",
       "2  2318503365000         0.871489        -9.595961        -0.057461   1   \n",
       "3  2318512831000         0.852336        -9.643845        -0.038307   1   \n",
       "4  2318523222000         0.871489        -9.634268        -0.057461   1   \n",
       "\n",
       "    Name  Age  Height  Weight Gender  fall  \n",
       "0   sub1   32     180      85   Male    12  \n",
       "1   sub1   32     180      85   Male    12  \n",
       "2   sub1   32     180      85   Male    12  \n",
       "3   sub1   32     180      85   Male    12  \n",
       "4   sub1   32     180      85   Male    12  "
      ]
     },
     "execution_count": 7,
     "metadata": {},
     "output_type": "execute_result"
    }
   ],
   "source": [
    "absolutepath = 'D:/TUDarmstadt/DSII/workspace/fallDetection/dataSets/MobiFall_Dataset_v2.0_labelled\\sub1'\n",
    "df = readSubsCsvs(absolutepath)\n",
    "df.head()"
   ]
  },
  {
   "cell_type": "code",
   "execution_count": 8,
   "id": "b60ea75d-08c2-4fac-97f6-a934e3115c76",
   "metadata": {},
   "outputs": [
    {
     "name": "stdout",
     "output_type": "stream",
     "text": [
      "timestamp - 0.0%\n",
      "accelerometer_x - 0.0%\n",
      "accelerometer_y - 0.0%\n",
      "accelerometer_z - 0.0%\n",
      "id - 0.0%\n",
      "Name - 0.0%\n",
      "Age - 0.0%\n",
      "Height - 0.0%\n",
      "Weight - 0.0%\n",
      "Gender - 0.0%\n",
      "fall - 0.0%\n"
     ]
    }
   ],
   "source": [
    "for col in df.columns:\n",
    "    pctMissing = df[col].isnull().mean()\n",
    "    print(f'{col} - {pctMissing :.1%}')"
   ]
  },
  {
   "cell_type": "code",
   "execution_count": 9,
   "id": "b4c29012-a4e6-4eb6-95b9-26e52377923e",
   "metadata": {},
   "outputs": [],
   "source": [
    "fallRaw = df[\"fall\"]\n",
    "featuresRaw = df.drop([\"fall\", \"id\", \"Name\", \"Age\", \"Height\", \"Weight\", \"Gender\", \"timestamp\"], axis = 1)"
   ]
  },
  {
   "cell_type": "code",
   "execution_count": 10,
   "id": "3db5bd53-1438-4034-b68f-2a6f5b76215a",
   "metadata": {},
   "outputs": [
    {
     "data": {
      "text/html": [
       "<div>\n",
       "<style scoped>\n",
       "    .dataframe tbody tr th:only-of-type {\n",
       "        vertical-align: middle;\n",
       "    }\n",
       "\n",
       "    .dataframe tbody tr th {\n",
       "        vertical-align: top;\n",
       "    }\n",
       "\n",
       "    .dataframe thead th {\n",
       "        text-align: right;\n",
       "    }\n",
       "</style>\n",
       "<table border=\"1\" class=\"dataframe\">\n",
       "  <thead>\n",
       "    <tr style=\"text-align: right;\">\n",
       "      <th></th>\n",
       "      <th>accelerometer_x</th>\n",
       "      <th>accelerometer_y</th>\n",
       "      <th>accelerometer_z</th>\n",
       "    </tr>\n",
       "  </thead>\n",
       "  <tbody>\n",
       "    <tr>\n",
       "      <th>0</th>\n",
       "      <td>0.890643</td>\n",
       "      <td>-9.576807</td>\n",
       "      <td>-0.019154</td>\n",
       "    </tr>\n",
       "    <tr>\n",
       "      <th>1</th>\n",
       "      <td>0.919373</td>\n",
       "      <td>-9.595961</td>\n",
       "      <td>-0.057461</td>\n",
       "    </tr>\n",
       "    <tr>\n",
       "      <th>2</th>\n",
       "      <td>0.871489</td>\n",
       "      <td>-9.595961</td>\n",
       "      <td>-0.057461</td>\n",
       "    </tr>\n",
       "    <tr>\n",
       "      <th>3</th>\n",
       "      <td>0.852336</td>\n",
       "      <td>-9.643845</td>\n",
       "      <td>-0.038307</td>\n",
       "    </tr>\n",
       "    <tr>\n",
       "      <th>4</th>\n",
       "      <td>0.871489</td>\n",
       "      <td>-9.634268</td>\n",
       "      <td>-0.057461</td>\n",
       "    </tr>\n",
       "  </tbody>\n",
       "</table>\n",
       "</div>"
      ],
      "text/plain": [
       "   accelerometer_x  accelerometer_y  accelerometer_z\n",
       "0         0.890643        -9.576807        -0.019154\n",
       "1         0.919373        -9.595961        -0.057461\n",
       "2         0.871489        -9.595961        -0.057461\n",
       "3         0.852336        -9.643845        -0.038307\n",
       "4         0.871489        -9.634268        -0.057461"
      ]
     },
     "execution_count": 10,
     "metadata": {},
     "output_type": "execute_result"
    }
   ],
   "source": [
    "featuresRaw.head()"
   ]
  },
  {
   "cell_type": "code",
   "execution_count": 11,
   "id": "039ee78b-93b0-4f8f-9c0c-3bebd7ab7a74",
   "metadata": {},
   "outputs": [],
   "source": [
    "scaler = MinMaxScaler()\n",
    "numerical = [\"accelerometer_x\", \"accelerometer_y\", \"accelerometer_z\",]"
   ]
  },
  {
   "cell_type": "code",
   "execution_count": 12,
   "id": "1d7e4589-2ac2-4525-941c-376263c6a181",
   "metadata": {},
   "outputs": [
    {
     "data": {
      "text/html": [
       "<div>\n",
       "<style scoped>\n",
       "    .dataframe tbody tr th:only-of-type {\n",
       "        vertical-align: middle;\n",
       "    }\n",
       "\n",
       "    .dataframe tbody tr th {\n",
       "        vertical-align: top;\n",
       "    }\n",
       "\n",
       "    .dataframe thead th {\n",
       "        text-align: right;\n",
       "    }\n",
       "</style>\n",
       "<table border=\"1\" class=\"dataframe\">\n",
       "  <thead>\n",
       "    <tr style=\"text-align: right;\">\n",
       "      <th></th>\n",
       "      <th>accelerometer_x</th>\n",
       "      <th>accelerometer_y</th>\n",
       "      <th>accelerometer_z</th>\n",
       "    </tr>\n",
       "  </thead>\n",
       "  <tbody>\n",
       "    <tr>\n",
       "      <th>0</th>\n",
       "      <td>0.515679</td>\n",
       "      <td>0.251503</td>\n",
       "      <td>0.405026</td>\n",
       "    </tr>\n",
       "    <tr>\n",
       "      <th>1</th>\n",
       "      <td>0.516426</td>\n",
       "      <td>0.251002</td>\n",
       "      <td>0.403857</td>\n",
       "    </tr>\n",
       "    <tr>\n",
       "      <th>2</th>\n",
       "      <td>0.515182</td>\n",
       "      <td>0.251002</td>\n",
       "      <td>0.403857</td>\n",
       "    </tr>\n",
       "    <tr>\n",
       "      <th>3</th>\n",
       "      <td>0.514684</td>\n",
       "      <td>0.249749</td>\n",
       "      <td>0.404442</td>\n",
       "    </tr>\n",
       "    <tr>\n",
       "      <th>4</th>\n",
       "      <td>0.515182</td>\n",
       "      <td>0.250000</td>\n",
       "      <td>0.403857</td>\n",
       "    </tr>\n",
       "  </tbody>\n",
       "</table>\n",
       "</div>"
      ],
      "text/plain": [
       "   accelerometer_x  accelerometer_y  accelerometer_z\n",
       "0         0.515679         0.251503         0.405026\n",
       "1         0.516426         0.251002         0.403857\n",
       "2         0.515182         0.251002         0.403857\n",
       "3         0.514684         0.249749         0.404442\n",
       "4         0.515182         0.250000         0.403857"
      ]
     },
     "execution_count": 12,
     "metadata": {},
     "output_type": "execute_result"
    }
   ],
   "source": [
    "featuresTransformed = pd.DataFrame(data = featuresRaw)\n",
    "featuresTransformed[numerical] = scaler.fit_transform(featuresTransformed[numerical])\n",
    "featuresTransformed.head()"
   ]
  },
  {
   "cell_type": "code",
   "execution_count": 13,
   "id": "a35834cc-5333-4b48-8675-51d49b0ac6ce",
   "metadata": {},
   "outputs": [
    {
     "data": {
      "text/plain": [
       "array([12, 12, 12, ..., 14, 14, 14], dtype=int64)"
      ]
     },
     "execution_count": 13,
     "metadata": {},
     "output_type": "execute_result"
    }
   ],
   "source": [
    "y = fallRaw.values\n",
    "labelEncoder = LabelEncoder()\n",
    "yEncoded = labelEncoder.fit_transform(y)\n",
    "y"
   ]
  },
  {
   "cell_type": "code",
   "execution_count": 14,
   "id": "c8a5ebd3-90cd-407f-8733-b7a31421cbdc",
   "metadata": {},
   "outputs": [
    {
     "name": "stdout",
     "output_type": "stream",
     "text": [
      "Training set has (7852, 3) samples\n",
      "Testing set has (1964, 3) samples\n"
     ]
    }
   ],
   "source": [
    "x_train, x_test, y_train, y_test = train_test_split(featuresTransformed.values, yEncoded, test_size = 0.2, random_state = 0)\n",
    "print('Training set has {} samples'.format(x_train.shape))\n",
    "print('Testing set has {} samples'.format(x_test.shape))"
   ]
  },
  {
   "cell_type": "code",
   "execution_count": 15,
   "id": "399038f1-c443-4370-9b50-636da742e96a",
   "metadata": {},
   "outputs": [],
   "source": [
    "x_trainReshaped = np.repeat(x_train[:, np.newaxis, :], 200, axis=1)\n",
    "x_testReshaped = np.repeat(x_test[:, np.newaxis, :], 200, axis=1)"
   ]
  },
  {
   "cell_type": "code",
   "execution_count": 16,
   "id": "a911d62f-19be-4852-b1ea-fae3357dee83",
   "metadata": {},
   "outputs": [],
   "source": [
    "numClasses = len(np.unique(y))\n",
    "y_trainCat = to_categorical(y_train, num_classes=numClasses)\n",
    "y_testCat = to_categorical(y_test, num_classes=numClasses)"
   ]
  },
  {
   "cell_type": "code",
   "execution_count": 17,
   "id": "a1f1a215-d025-4fed-a43d-dc18356df09a",
   "metadata": {},
   "outputs": [],
   "source": [
    "input = (200, 3)\n",
    "model = models.Sequential()\n",
    "model.add(layers.Conv1D(6, kernel_size=4, activation='relu', input_shape=input, padding='same'))\n",
    "\n",
    "model.add(layers.MaxPooling1D(pool_size=4, strides=4))\n",
    "\n",
    "model.add(layers.Conv1D(12, kernel_size=4, activation='relu',padding='same'))\n",
    "\n",
    "model.add(layers.MaxPooling1D(pool_size=4, strides=4))\n",
    "model.add(layers.Flatten())\n",
    "\n",
    "model.add(layers.Dense(128, activation='relu'))\n",
    "model.add(layers.Dropout(0.3))\n",
    "model.add(layers.Dense(numClasses, activation='softmax'))\n"
   ]
  },
  {
   "cell_type": "code",
   "execution_count": 18,
   "id": "6a524259-80fe-48cb-88b5-b75dc2a156c3",
   "metadata": {},
   "outputs": [
    {
     "name": "stdout",
     "output_type": "stream",
     "text": [
      "Model: \"sequential\"\n",
      "_________________________________________________________________\n",
      " Layer (type)                Output Shape              Param #   \n",
      "=================================================================\n",
      " conv1d (Conv1D)             (None, 200, 6)            78        \n",
      "                                                                 \n",
      " max_pooling1d (MaxPooling1D  (None, 50, 6)            0         \n",
      " )                                                               \n",
      "                                                                 \n",
      " conv1d_1 (Conv1D)           (None, 50, 12)            300       \n",
      "                                                                 \n",
      " max_pooling1d_1 (MaxPooling  (None, 12, 12)           0         \n",
      " 1D)                                                             \n",
      "                                                                 \n",
      " flatten (Flatten)           (None, 144)               0         \n",
      "                                                                 \n",
      " dense (Dense)               (None, 128)               18560     \n",
      "                                                                 \n",
      " dropout (Dropout)           (None, 128)               0         \n",
      "                                                                 \n",
      " dense_1 (Dense)             (None, 4)                 516       \n",
      "                                                                 \n",
      "=================================================================\n",
      "Total params: 19,454\n",
      "Trainable params: 19,454\n",
      "Non-trainable params: 0\n",
      "_________________________________________________________________\n"
     ]
    }
   ],
   "source": [
    "model.compile(optimizer='adam', loss='categorical_crossentropy', metrics=['accuracy'])\n",
    "model.summary()"
   ]
  },
  {
   "cell_type": "code",
   "execution_count": 19,
   "id": "90de2cd1-d177-48ae-8d2d-0037e3b26938",
   "metadata": {},
   "outputs": [],
   "source": [
    "batch = 80\n",
    "epochs = 40\n",
    "iterationsPerEp = x_trainReshaped.shape[0] // batch"
   ]
  },
  {
   "cell_type": "code",
   "execution_count": 20,
   "id": "00d8c797-d334-4f5a-b76f-3f8767b14974",
   "metadata": {},
   "outputs": [
    {
     "name": "stdout",
     "output_type": "stream",
     "text": [
      "Epoch 1/40\n",
      "98/98 [==============================] - 5s 38ms/step - loss: 1.1881 - accuracy: 0.4337\n",
      "Epoch 2/40\n",
      "98/98 [==============================] - 4s 40ms/step - loss: 0.7373 - accuracy: 0.7159\n",
      "Epoch 3/40\n",
      "98/98 [==============================] - 3s 34ms/step - loss: 0.5386 - accuracy: 0.8145\n",
      "Epoch 4/40\n",
      "98/98 [==============================] - 4s 38ms/step - loss: 0.4787 - accuracy: 0.8542\n",
      "Epoch 5/40\n",
      "98/98 [==============================] - 4s 38ms/step - loss: 0.4506 - accuracy: 0.8515\n",
      "Epoch 6/40\n",
      "98/98 [==============================] - 4s 40ms/step - loss: 0.4090 - accuracy: 0.8652\n",
      "Epoch 7/40\n",
      "98/98 [==============================] - 4s 40ms/step - loss: 0.3855 - accuracy: 0.8685\n",
      "Epoch 8/40\n",
      "98/98 [==============================] - 4s 39ms/step - loss: 0.3635 - accuracy: 0.8734\n",
      "Epoch 9/40\n",
      "98/98 [==============================] - 4s 39ms/step - loss: 0.3410 - accuracy: 0.8841\n",
      "Epoch 10/40\n",
      "98/98 [==============================] - 4s 40ms/step - loss: 0.3329 - accuracy: 0.8864\n",
      "Epoch 11/40\n",
      "98/98 [==============================] - 4s 39ms/step - loss: 0.3273 - accuracy: 0.8870\n",
      "Epoch 12/40\n",
      "98/98 [==============================] - 4s 40ms/step - loss: 0.3063 - accuracy: 0.8944\n",
      "Epoch 13/40\n",
      "98/98 [==============================] - 4s 39ms/step - loss: 0.3074 - accuracy: 0.8942\n",
      "Epoch 14/40\n",
      "98/98 [==============================] - 4s 39ms/step - loss: 0.3002 - accuracy: 0.8971\n",
      "Epoch 15/40\n",
      "98/98 [==============================] - 3s 28ms/step - loss: 0.2905 - accuracy: 0.8987\n",
      "Epoch 16/40\n",
      "98/98 [==============================] - 3s 29ms/step - loss: 0.2809 - accuracy: 0.8990\n",
      "Epoch 17/40\n",
      "98/98 [==============================] - 4s 40ms/step - loss: 0.2827 - accuracy: 0.9011\n",
      "Epoch 18/40\n",
      "98/98 [==============================] - 4s 40ms/step - loss: 0.2711 - accuracy: 0.9036\n",
      "Epoch 19/40\n",
      "98/98 [==============================] - 4s 40ms/step - loss: 0.2731 - accuracy: 0.9066\n",
      "Epoch 20/40\n",
      "98/98 [==============================] - 4s 42ms/step - loss: 0.2764 - accuracy: 0.8984\n",
      "Epoch 21/40\n",
      "98/98 [==============================] - 4s 39ms/step - loss: 0.2546 - accuracy: 0.9088\n",
      "Epoch 22/40\n",
      "98/98 [==============================] - 4s 41ms/step - loss: 0.2561 - accuracy: 0.9077\n",
      "Epoch 23/40\n",
      "98/98 [==============================] - 4s 41ms/step - loss: 0.2535 - accuracy: 0.9085\n",
      "Epoch 24/40\n",
      "98/98 [==============================] - 4s 39ms/step - loss: 0.2555 - accuracy: 0.9092\n",
      "Epoch 25/40\n",
      "98/98 [==============================] - 4s 40ms/step - loss: 0.2475 - accuracy: 0.9111\n",
      "Epoch 26/40\n",
      "98/98 [==============================] - 4s 40ms/step - loss: 0.2506 - accuracy: 0.9075\n",
      "Epoch 27/40\n",
      "98/98 [==============================] - 4s 38ms/step - loss: 0.2478 - accuracy: 0.9085\n",
      "Epoch 28/40\n",
      "98/98 [==============================] - 2s 20ms/step - loss: 0.2368 - accuracy: 0.9125\n",
      "Epoch 29/40\n",
      "98/98 [==============================] - 4s 40ms/step - loss: 0.2387 - accuracy: 0.9079\n",
      "Epoch 30/40\n",
      "98/98 [==============================] - 4s 40ms/step - loss: 0.2368 - accuracy: 0.9129\n",
      "Epoch 31/40\n",
      "98/98 [==============================] - 4s 40ms/step - loss: 0.2282 - accuracy: 0.9119\n",
      "Epoch 32/40\n",
      "98/98 [==============================] - 4s 39ms/step - loss: 0.2258 - accuracy: 0.9156\n",
      "Epoch 33/40\n",
      "98/98 [==============================] - 4s 39ms/step - loss: 0.2271 - accuracy: 0.9108\n",
      "Epoch 34/40\n",
      "98/98 [==============================] - 4s 40ms/step - loss: 0.2207 - accuracy: 0.9128\n",
      "Epoch 35/40\n",
      "98/98 [==============================] - 4s 39ms/step - loss: 0.2268 - accuracy: 0.9134\n",
      "Epoch 36/40\n",
      "98/98 [==============================] - 4s 40ms/step - loss: 0.2193 - accuracy: 0.9159\n",
      "Epoch 37/40\n",
      "98/98 [==============================] - 3s 34ms/step - loss: 0.2166 - accuracy: 0.9168\n",
      "Epoch 38/40\n",
      "98/98 [==============================] - 2s 20ms/step - loss: 0.2182 - accuracy: 0.9165\n",
      "Epoch 39/40\n",
      "98/98 [==============================] - 4s 40ms/step - loss: 0.2098 - accuracy: 0.9155\n",
      "Epoch 40/40\n",
      "98/98 [==============================] - 4s 39ms/step - loss: 0.2079 - accuracy: 0.9192\n"
     ]
    },
    {
     "data": {
      "text/plain": [
       "<keras.callbacks.History at 0x12ecd351820>"
      ]
     },
     "execution_count": 20,
     "metadata": {},
     "output_type": "execute_result"
    }
   ],
   "source": [
    "model.fit(x_trainReshaped, y_trainCat, batch_size=batch, epochs=epochs, steps_per_epoch=iterationsPerEp)"
   ]
  },
  {
   "cell_type": "code",
   "execution_count": 21,
   "id": "7892813f-0cc1-4c4a-9eb2-ab5ee853bb06",
   "metadata": {},
   "outputs": [
    {
     "name": "stdout",
     "output_type": "stream",
     "text": [
      "25/25 [==============================] - 0s 3ms/step - loss: 0.2224 - accuracy: 0.9027\n"
     ]
    }
   ],
   "source": [
    "results = model.evaluate(x_testReshaped, y_testCat, batch_size=batch)"
   ]
  },
  {
   "cell_type": "code",
   "execution_count": 22,
   "id": "031490f2-f0c6-488e-b7e9-92a27dfa2ca1",
   "metadata": {},
   "outputs": [
    {
     "data": {
      "image/png": "[encoded data removed]",
      "text/plain": [
       "<Figure size 1000x1000 with 1 Axes>"
      ]
     },
     "metadata": {},
     "output_type": "display_data"
    }
   ],
   "source": [
    "\n",
    "classDist = fallRaw.value_counts()\n",
    "total = len(df)\n",
    "percentage_distribution = (classDist / total) * 100\n",
    "\n",
    "plt.figure(figsize= [10,10])\n",
    "plt.pie(percentage_distribution, labels=percentage_distribution.index, autopct='%1.1f%%', startangle=90)\n",
    "plt.title('Class Distribution Percentage')\n",
    "plt.show()"
   ]
  },
  {
   "cell_type": "code",
   "execution_count": 23,
   "id": "9795b89d-35c2-48a2-9d5c-d69d8267b045",
   "metadata": {},
   "outputs": [
    {
     "name": "stdout",
     "output_type": "stream",
     "text": [
      "62/62 [==============================] - 0s 2ms/step\n",
      "(1964, 4)\n"
     ]
    }
   ],
   "source": [
    "predictions = model.predict(x_testReshaped)\n",
    "predictions.shape"
   ]
  },
  {
   "cell_type": "code",
   "execution_count": 24,
   "id": "c53e2f80-738e-4514-94df-17a83aa368b7",
   "metadata": {},
   "outputs": [
    {
     "data": {
      "text/plain": [
       "array([[412,  80,   9,   4],\n",
       "       [ 24, 472,   1,   1],\n",
       "       [ 10,   3, 439,  21],\n",
       "       [  2,   5,  31, 450]], dtype=int64)"
      ]
     },
     "execution_count": 24,
     "metadata": {},
     "output_type": "execute_result"
    }
   ],
   "source": [
    "yTrueClasses = y_test\n",
    "yPredClasses = np.argmax(predictions, axis=1)\n",
    "confMat = confusion_matrix(yTrueClasses, yPredClasses)\n",
    "confMat"
   ]
  },
  {
   "cell_type": "code",
   "execution_count": 25,
   "id": "4275a146-fffc-4940-a196-2710f5140db2",
   "metadata": {},
   "outputs": [
    {
     "data": {
      "image/png": "[encoded data removed]",
      "text/plain": [
       "<Figure size 1000x1000 with 2 Axes>"
      ]
     },
     "metadata": {},
     "output_type": "display_data"
    }
   ],
   "source": [
    "classes = ['10', '11', '12', '13']\n",
    "plt.figure(figsize=[10,10])\n",
    "confMatPerc = confMat.astype('float') / confMat.sum(axis=1)[:, np.newaxis] * 100\n",
    "sns.heatmap(confMatPerc , annot=True, fmt='0.2f', cmap='Blues', xticklabels=classes, yticklabels=classes)\n",
    "plt.xlabel('Predicted')\n",
    "plt.ylabel('True')\n",
    "plt.title('Confusion Matrix')\n",
    "plt.show()"
   ]
  }
 ],
 "metadata": {
  "kernelspec": {
   "display_name": "Python 3 (ipykernel)",
   "language": "python",
   "name": "python3"
  },
  "language_info": {
   "codemirror_mode": {
    "name": "ipython",
    "version": 3
   },
   "file_extension": ".py",
   "mimetype": "text/x-python",
   "name": "python",
   "nbconvert_exporter": "python",
   "pygments_lexer": "ipython3",
   "version": "3.8.0"
  }
 },
 "nbformat": 4,
 "nbformat_minor": 5
}
