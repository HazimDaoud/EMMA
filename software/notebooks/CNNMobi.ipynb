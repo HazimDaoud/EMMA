{
 "cells": [
  {
   "cell_type": "code",
   "execution_count": 28,
   "id": "bbf4ac68-2c5f-40d1-960d-6d4b669a541c",
   "metadata": {},
   "outputs": [],
   "source": [
    "%pwd\n",
    "import pandas as pd\n",
    "import seaborn as sns\n",
    "import numpy as np\n",
    "import matplotlib.pyplot as plt\n",
    "from sklearn.preprocessing import MinMaxScaler\n",
    "from sklearn.model_selection import train_test_split\n",
    "from sklearn.preprocessing import LabelEncoder\n",
    "from keras.utils import to_categorical\n",
    "from tensorflow.keras import models, layers, metrics\n",
    "from sklearn.metrics import confusion_matrix\n",
    "import os\n",
    "from sklearn.utils.class_weight import compute_class_weight\n",
    "from sklearn.metrics import accuracy_score, f1_score, roc_auc_score, balanced_accuracy_score\n",
    "#you need to adjust the paths until it gets properly fixed, and run the labelling script for the mobifall."
   ]
  },
  {
   "cell_type": "code",
   "execution_count": 2,
   "id": "05ea4da5-08e7-4b16-87bd-24cc70bde335",
   "metadata": {},
   "outputs": [
    {
     "data": {
      "text/plain": [
       "'D:\\\\TUDarmstadt\\\\DSII\\\\workspace\\\\fff\\\\fallDetection\\\\software\\\\notebooks'"
      ]
     },
     "execution_count": 2,
     "metadata": {},
     "output_type": "execute_result"
    }
   ],
   "source": [
    "%pwd"
   ]
  },
  {
   "cell_type": "code",
   "execution_count": 3,
   "id": "3c510cba-6f3e-4ebe-9bf6-ba004f291847",
   "metadata": {},
   "outputs": [
    {
     "name": "stdout",
     "output_type": "stream",
     "text": [
      "D:\\TUDarmstadt\\DSII\\workspace\\fff\\fallDetection\\software\n"
     ]
    }
   ],
   "source": [
    "%cd .."
   ]
  },
  {
   "cell_type": "code",
   "execution_count": 4,
   "id": "4ad29e7f-a66f-4e71-8c8f-8a457374791a",
   "metadata": {},
   "outputs": [
    {
     "name": "stdout",
     "output_type": "stream",
     "text": [
      "D:\\TUDarmstadt\\DSII\\workspace\\fff\\fallDetection\\software\\dataPreprocessing\n"
     ]
    }
   ],
   "source": [
    "%cd dataPreprocessing/"
   ]
  },
  {
   "cell_type": "code",
   "execution_count": 5,
   "id": "f54b9031-b942-4721-8202-0b2cf72a9955",
   "metadata": {},
   "outputs": [],
   "source": [
    "from labellingData import readSubsCsvs\n",
    "from windowData import createSlidingWindows"
   ]
  },
  {
   "cell_type": "code",
   "execution_count": 6,
   "id": "ba536359-f874-48e3-a52e-243e720b4447",
   "metadata": {},
   "outputs": [
    {
     "name": "stdout",
     "output_type": "stream",
     "text": [
      "D:\\TUDarmstadt\\DSII\\workspace\\fff\\fallDetection\\software\n",
      "D:\\TUDarmstadt\\DSII\\workspace\\fff\\fallDetection\n"
     ]
    }
   ],
   "source": [
    "%cd ..\n",
    "%cd .."
   ]
  },
  {
   "cell_type": "code",
   "execution_count": 7,
   "id": "37917993-2727-4ed7-9426-62f9132a51df",
   "metadata": {},
   "outputs": [
    {
     "data": {
      "text/html": [
       "<div>\n",
       "<style scoped>\n",
       "    .dataframe tbody tr th:only-of-type {\n",
       "        vertical-align: middle;\n",
       "    }\n",
       "\n",
       "    .dataframe tbody tr th {\n",
       "        vertical-align: top;\n",
       "    }\n",
       "\n",
       "    .dataframe thead th {\n",
       "        text-align: right;\n",
       "    }\n",
       "</style>\n",
       "<table border=\"1\" class=\"dataframe\">\n",
       "  <thead>\n",
       "    <tr style=\"text-align: right;\">\n",
       "      <th></th>\n",
       "      <th>timestamp</th>\n",
       "      <th>accelerometer_x</th>\n",
       "      <th>accelerometer_y</th>\n",
       "      <th>accelerometer_z</th>\n",
       "      <th>id</th>\n",
       "      <th>Name</th>\n",
       "      <th>Age</th>\n",
       "      <th>Height</th>\n",
       "      <th>Weight</th>\n",
       "      <th>Gender</th>\n",
       "      <th>fall</th>\n",
       "    </tr>\n",
       "  </thead>\n",
       "  <tbody>\n",
       "    <tr>\n",
       "      <th>0</th>\n",
       "      <td>150850692000</td>\n",
       "      <td>0.632069</td>\n",
       "      <td>10.745177</td>\n",
       "      <td>-2.786851</td>\n",
       "      <td>2</td>\n",
       "      <td>sub2</td>\n",
       "      <td>26</td>\n",
       "      <td>169</td>\n",
       "      <td>64</td>\n",
       "      <td>Male</td>\n",
       "      <td>8</td>\n",
       "    </tr>\n",
       "    <tr>\n",
       "      <th>1</th>\n",
       "      <td>150870594000</td>\n",
       "      <td>0.603339</td>\n",
       "      <td>11.817780</td>\n",
       "      <td>-2.806004</td>\n",
       "      <td>2</td>\n",
       "      <td>sub2</td>\n",
       "      <td>26</td>\n",
       "      <td>169</td>\n",
       "      <td>64</td>\n",
       "      <td>Male</td>\n",
       "      <td>8</td>\n",
       "    </tr>\n",
       "    <tr>\n",
       "      <th>2</th>\n",
       "      <td>150880702000</td>\n",
       "      <td>1.139640</td>\n",
       "      <td>11.070788</td>\n",
       "      <td>-2.394202</td>\n",
       "      <td>2</td>\n",
       "      <td>sub2</td>\n",
       "      <td>26</td>\n",
       "      <td>169</td>\n",
       "      <td>64</td>\n",
       "      <td>Male</td>\n",
       "      <td>8</td>\n",
       "    </tr>\n",
       "    <tr>\n",
       "      <th>3</th>\n",
       "      <td>150892211000</td>\n",
       "      <td>1.312023</td>\n",
       "      <td>10.438720</td>\n",
       "      <td>-1.867477</td>\n",
       "      <td>2</td>\n",
       "      <td>sub2</td>\n",
       "      <td>26</td>\n",
       "      <td>169</td>\n",
       "      <td>64</td>\n",
       "      <td>Male</td>\n",
       "      <td>8</td>\n",
       "    </tr>\n",
       "    <tr>\n",
       "      <th>4</th>\n",
       "      <td>150903892000</td>\n",
       "      <td>1.015141</td>\n",
       "      <td>10.122685</td>\n",
       "      <td>-1.532289</td>\n",
       "      <td>2</td>\n",
       "      <td>sub2</td>\n",
       "      <td>26</td>\n",
       "      <td>169</td>\n",
       "      <td>64</td>\n",
       "      <td>Male</td>\n",
       "      <td>8</td>\n",
       "    </tr>\n",
       "  </tbody>\n",
       "</table>\n",
       "</div>"
      ],
      "text/plain": [
       "      timestamp  accelerometer_x  accelerometer_y  accelerometer_z  id   Name  \\\n",
       "0  150850692000         0.632069        10.745177        -2.786851   2   sub2   \n",
       "1  150870594000         0.603339        11.817780        -2.806004   2   sub2   \n",
       "2  150880702000         1.139640        11.070788        -2.394202   2   sub2   \n",
       "3  150892211000         1.312023        10.438720        -1.867477   2   sub2   \n",
       "4  150903892000         1.015141        10.122685        -1.532289   2   sub2   \n",
       "\n",
       "   Age  Height  Weight Gender  fall  \n",
       "0   26     169      64   Male     8  \n",
       "1   26     169      64   Male     8  \n",
       "2   26     169      64   Male     8  \n",
       "3   26     169      64   Male     8  \n",
       "4   26     169      64   Male     8  "
      ]
     },
     "execution_count": 7,
     "metadata": {},
     "output_type": "execute_result"
    }
   ],
   "source": [
    "absolutepath = 'D:/TUDarmstadt/DSII/workspace/fallDetection/dataSets/MobiFall_Dataset_v2.0_labelled\\sub2'\n",
    "df = readSubsCsvs(absolutepath)\n",
    "df.head()"
   ]
  },
  {
   "cell_type": "code",
   "execution_count": 8,
   "id": "b60ea75d-08c2-4fac-97f6-a934e3115c76",
   "metadata": {},
   "outputs": [
    {
     "name": "stdout",
     "output_type": "stream",
     "text": [
      "timestamp - 0.0%\n",
      "accelerometer_x - 0.0%\n",
      "accelerometer_y - 0.0%\n",
      "accelerometer_z - 0.0%\n",
      "id - 0.0%\n",
      "Name - 0.0%\n",
      "Age - 0.0%\n",
      "Height - 0.0%\n",
      "Weight - 0.0%\n",
      "Gender - 0.0%\n",
      "fall - 0.0%\n"
     ]
    }
   ],
   "source": [
    "for col in df.columns:\n",
    "    pctMissing = df[col].isnull().mean()\n",
    "    print(f'{col} - {pctMissing :.1%}')"
   ]
  },
  {
   "cell_type": "code",
   "execution_count": 9,
   "id": "b4c29012-a4e6-4eb6-95b9-26e52377923e",
   "metadata": {},
   "outputs": [],
   "source": [
    "df['fall'] = df['fall'].map(lambda x : 0 if x in range(1,10) else 1)\n",
    "fallRaw = df[\"fall\"]\n",
    "featuresRaw = df.drop([\"fall\", \"id\", \"Name\", \"Age\", \"Height\", \"Weight\", \"Gender\", \"timestamp\"], axis = 1)"
   ]
  },
  {
   "cell_type": "code",
   "execution_count": 10,
   "id": "3db5bd53-1438-4034-b68f-2a6f5b76215a",
   "metadata": {},
   "outputs": [
    {
     "data": {
      "text/html": [
       "<div>\n",
       "<style scoped>\n",
       "    .dataframe tbody tr th:only-of-type {\n",
       "        vertical-align: middle;\n",
       "    }\n",
       "\n",
       "    .dataframe tbody tr th {\n",
       "        vertical-align: top;\n",
       "    }\n",
       "\n",
       "    .dataframe thead th {\n",
       "        text-align: right;\n",
       "    }\n",
       "</style>\n",
       "<table border=\"1\" class=\"dataframe\">\n",
       "  <thead>\n",
       "    <tr style=\"text-align: right;\">\n",
       "      <th></th>\n",
       "      <th>accelerometer_x</th>\n",
       "      <th>accelerometer_y</th>\n",
       "      <th>accelerometer_z</th>\n",
       "    </tr>\n",
       "  </thead>\n",
       "  <tbody>\n",
       "    <tr>\n",
       "      <th>0</th>\n",
       "      <td>0.632069</td>\n",
       "      <td>10.745177</td>\n",
       "      <td>-2.786851</td>\n",
       "    </tr>\n",
       "    <tr>\n",
       "      <th>1</th>\n",
       "      <td>0.603339</td>\n",
       "      <td>11.817780</td>\n",
       "      <td>-2.806004</td>\n",
       "    </tr>\n",
       "    <tr>\n",
       "      <th>2</th>\n",
       "      <td>1.139640</td>\n",
       "      <td>11.070788</td>\n",
       "      <td>-2.394202</td>\n",
       "    </tr>\n",
       "    <tr>\n",
       "      <th>3</th>\n",
       "      <td>1.312023</td>\n",
       "      <td>10.438720</td>\n",
       "      <td>-1.867477</td>\n",
       "    </tr>\n",
       "    <tr>\n",
       "      <th>4</th>\n",
       "      <td>1.015141</td>\n",
       "      <td>10.122685</td>\n",
       "      <td>-1.532289</td>\n",
       "    </tr>\n",
       "  </tbody>\n",
       "</table>\n",
       "</div>"
      ],
      "text/plain": [
       "   accelerometer_x  accelerometer_y  accelerometer_z\n",
       "0         0.632069        10.745177        -2.786851\n",
       "1         0.603339        11.817780        -2.806004\n",
       "2         1.139640        11.070788        -2.394202\n",
       "3         1.312023        10.438720        -1.867477\n",
       "4         1.015141        10.122685        -1.532289"
      ]
     },
     "execution_count": 10,
     "metadata": {},
     "output_type": "execute_result"
    }
   ],
   "source": [
    "featuresRaw.head()"
   ]
  },
  {
   "cell_type": "code",
   "execution_count": 11,
   "id": "039ee78b-93b0-4f8f-9c0c-3bebd7ab7a74",
   "metadata": {},
   "outputs": [],
   "source": [
    "scaler = MinMaxScaler()\n",
    "numerical = [\"accelerometer_x\", \"accelerometer_y\", \"accelerometer_z\",]"
   ]
  },
  {
   "cell_type": "code",
   "execution_count": 12,
   "id": "1d7e4589-2ac2-4525-941c-376263c6a181",
   "metadata": {},
   "outputs": [
    {
     "data": {
      "text/html": [
       "<div>\n",
       "<style scoped>\n",
       "    .dataframe tbody tr th:only-of-type {\n",
       "        vertical-align: middle;\n",
       "    }\n",
       "\n",
       "    .dataframe tbody tr th {\n",
       "        vertical-align: top;\n",
       "    }\n",
       "\n",
       "    .dataframe thead th {\n",
       "        text-align: right;\n",
       "    }\n",
       "</style>\n",
       "<table border=\"1\" class=\"dataframe\">\n",
       "  <thead>\n",
       "    <tr style=\"text-align: right;\">\n",
       "      <th></th>\n",
       "      <th>accelerometer_x</th>\n",
       "      <th>accelerometer_y</th>\n",
       "      <th>accelerometer_z</th>\n",
       "    </tr>\n",
       "  </thead>\n",
       "  <tbody>\n",
       "    <tr>\n",
       "      <th>0</th>\n",
       "      <td>0.511605</td>\n",
       "      <td>0.772208</td>\n",
       "      <td>0.411364</td>\n",
       "    </tr>\n",
       "    <tr>\n",
       "      <th>1</th>\n",
       "      <td>0.510856</td>\n",
       "      <td>0.800000</td>\n",
       "      <td>0.410859</td>\n",
       "    </tr>\n",
       "    <tr>\n",
       "      <th>2</th>\n",
       "      <td>0.524832</td>\n",
       "      <td>0.780645</td>\n",
       "      <td>0.421717</td>\n",
       "    </tr>\n",
       "    <tr>\n",
       "      <th>3</th>\n",
       "      <td>0.529324</td>\n",
       "      <td>0.764268</td>\n",
       "      <td>0.435606</td>\n",
       "    </tr>\n",
       "    <tr>\n",
       "      <th>4</th>\n",
       "      <td>0.521587</td>\n",
       "      <td>0.756079</td>\n",
       "      <td>0.444444</td>\n",
       "    </tr>\n",
       "  </tbody>\n",
       "</table>\n",
       "</div>"
      ],
      "text/plain": [
       "   accelerometer_x  accelerometer_y  accelerometer_z\n",
       "0         0.511605         0.772208         0.411364\n",
       "1         0.510856         0.800000         0.410859\n",
       "2         0.524832         0.780645         0.421717\n",
       "3         0.529324         0.764268         0.435606\n",
       "4         0.521587         0.756079         0.444444"
      ]
     },
     "execution_count": 12,
     "metadata": {},
     "output_type": "execute_result"
    }
   ],
   "source": [
    "featuresTransformed = pd.DataFrame(data = featuresRaw)\n",
    "featuresTransformed[numerical] = scaler.fit_transform(featuresTransformed[numerical])\n",
    "featuresTransformed.head()"
   ]
  },
  {
   "cell_type": "code",
   "execution_count": 13,
   "id": "a35834cc-5333-4b48-8675-51d49b0ac6ce",
   "metadata": {},
   "outputs": [
    {
     "data": {
      "text/plain": [
       "array([0, 0, 0, ..., 1, 1, 1], dtype=int64)"
      ]
     },
     "execution_count": 13,
     "metadata": {},
     "output_type": "execute_result"
    }
   ],
   "source": [
    "y = fallRaw.values\n",
    "labelEncoder = LabelEncoder()\n",
    "yEncoded = labelEncoder.fit_transform(y)\n",
    "y"
   ]
  },
  {
   "cell_type": "code",
   "execution_count": 14,
   "id": "af5ffad4-c0b9-4886-a62b-63ffd8bc67c4",
   "metadata": {},
   "outputs": [],
   "source": [
    "windows, labels = createSlidingWindows(featuresTransformed.values, yEncoded, 200)"
   ]
  },
  {
   "cell_type": "code",
   "execution_count": 15,
   "id": "c8a5ebd3-90cd-407f-8733-b7a31421cbdc",
   "metadata": {},
   "outputs": [
    {
     "name": "stdout",
     "output_type": "stream",
     "text": [
      "Training set has (78551, 200, 3) samples\n",
      "Testing set has (19638, 200, 3) samples\n"
     ]
    }
   ],
   "source": [
    "x_train, x_test, y_train, y_test = train_test_split(windows, labels, test_size = 0.2, random_state = 0)\n",
    "print('Training set has {} samples'.format(x_train.shape))\n",
    "print('Testing set has {} samples'.format(x_test.shape))"
   ]
  },
  {
   "cell_type": "code",
   "execution_count": 16,
   "id": "fc9e5ff8-d600-41d8-b876-f8fae37b3dc4",
   "metadata": {},
   "outputs": [
    {
     "data": {
      "text/plain": [
       "{0: 0.5568702235959676, 1: 4.895973572675143}"
      ]
     },
     "execution_count": 16,
     "metadata": {},
     "output_type": "execute_result"
    }
   ],
   "source": [
    "class_labels = np.unique(y_train)\n",
    "classWeights = compute_class_weight(class_weight ='balanced', classes = class_labels, y= y_train)\n",
    "classWeights\n",
    "class_weight_dict = dict(zip(class_labels, classWeights))\n",
    "class_weight_dict"
   ]
  },
  {
   "cell_type": "code",
   "execution_count": 17,
   "id": "a911d62f-19be-4852-b1ea-fae3357dee83",
   "metadata": {},
   "outputs": [
    {
     "data": {
      "text/plain": [
       "(78551, 2)"
      ]
     },
     "execution_count": 17,
     "metadata": {},
     "output_type": "execute_result"
    }
   ],
   "source": [
    "numClasses = len(np.unique(y))\n",
    "y_trainCat = to_categorical(y_train, num_classes=numClasses)\n",
    "y_testCat = to_categorical(y_test, num_classes=numClasses)\n",
    "y_trainCat.shape"
   ]
  },
  {
   "cell_type": "code",
   "execution_count": 18,
   "id": "a1f1a215-d025-4fed-a43d-dc18356df09a",
   "metadata": {},
   "outputs": [],
   "source": [
    "input = (200, 3)\n",
    "model = models.Sequential()\n",
    "model.add(layers.Conv1D(6, kernel_size=4, activation='relu', input_shape=input, padding='same'))\n",
    "\n",
    "model.add(layers.BatchNormalization())\n",
    "\n",
    "model.add(layers.MaxPooling1D(pool_size=4, strides=4))\n",
    "\n",
    "model.add(layers.Conv1D(12, kernel_size=4, activation='relu',padding='same'))\n",
    "\n",
    "model.add(layers.BatchNormalization())\n",
    "\n",
    "model.add(layers.MaxPooling1D(pool_size=4, strides=4))\n",
    "model.add(layers.Flatten())\n",
    "\n",
    "model.add(layers.Dense(128, activation='relu'))\n",
    "model.add(layers.BatchNormalization())\n",
    "\n",
    "model.add(layers.Dropout(0.3))\n",
    "model.add(layers.Dense(numClasses, activation='softmax'))\n"
   ]
  },
  {
   "cell_type": "code",
   "execution_count": 19,
   "id": "6a524259-80fe-48cb-88b5-b75dc2a156c3",
   "metadata": {},
   "outputs": [
    {
     "name": "stdout",
     "output_type": "stream",
     "text": [
      "Model: \"sequential\"\n",
      "_________________________________________________________________\n",
      " Layer (type)                Output Shape              Param #   \n",
      "=================================================================\n",
      " conv1d (Conv1D)             (None, 200, 6)            78        \n",
      "                                                                 \n",
      " batch_normalization (BatchN  (None, 200, 6)           24        \n",
      " ormalization)                                                   \n",
      "                                                                 \n",
      " max_pooling1d (MaxPooling1D  (None, 50, 6)            0         \n",
      " )                                                               \n",
      "                                                                 \n",
      " conv1d_1 (Conv1D)           (None, 50, 12)            300       \n",
      "                                                                 \n",
      " batch_normalization_1 (Batc  (None, 50, 12)           48        \n",
      " hNormalization)                                                 \n",
      "                                                                 \n",
      " max_pooling1d_1 (MaxPooling  (None, 12, 12)           0         \n",
      " 1D)                                                             \n",
      "                                                                 \n",
      " flatten (Flatten)           (None, 144)               0         \n",
      "                                                                 \n",
      " dense (Dense)               (None, 128)               18560     \n",
      "                                                                 \n",
      " batch_normalization_2 (Batc  (None, 128)              512       \n",
      " hNormalization)                                                 \n",
      "                                                                 \n",
      " dropout (Dropout)           (None, 128)               0         \n",
      "                                                                 \n",
      " dense_1 (Dense)             (None, 2)                 258       \n",
      "                                                                 \n",
      "=================================================================\n",
      "Total params: 19,780\n",
      "Trainable params: 19,488\n",
      "Non-trainable params: 292\n",
      "_________________________________________________________________\n"
     ]
    }
   ],
   "source": [
    "model.compile(optimizer='adam', loss='categorical_crossentropy', metrics=['accuracy', metrics.AUC()])\n",
    "model.summary()"
   ]
  },
  {
   "cell_type": "code",
   "execution_count": 20,
   "id": "90de2cd1-d177-48ae-8d2d-0037e3b26938",
   "metadata": {},
   "outputs": [],
   "source": [
    "batch = 64\n",
    "epochs = 10\n",
    "#iterationsPerEp = 100"
   ]
  },
  {
   "cell_type": "code",
   "execution_count": 21,
   "id": "00d8c797-d334-4f5a-b76f-3f8767b14974",
   "metadata": {},
   "outputs": [
    {
     "name": "stdout",
     "output_type": "stream",
     "text": [
      "Epoch 1/10\n",
      "1228/1228 [==============================] - 55s 44ms/step - loss: 0.0879 - accuracy: 0.9624 - auc: 0.9889\n",
      "Epoch 2/10\n",
      "1228/1228 [==============================] - 55s 45ms/step - loss: 0.0185 - accuracy: 0.9930 - auc: 0.9991\n",
      "Epoch 3/10\n",
      "1228/1228 [==============================] - 56s 45ms/step - loss: 0.0100 - accuracy: 0.9966 - auc: 0.9995\n",
      "Epoch 4/10\n",
      "1228/1228 [==============================] - 50s 41ms/step - loss: 0.0073 - accuracy: 0.9976 - auc: 0.9997\n",
      "Epoch 5/10\n",
      "1228/1228 [==============================] - 54s 44ms/step - loss: 0.0082 - accuracy: 0.9974 - auc: 0.9996\n",
      "Epoch 6/10\n",
      "1228/1228 [==============================] - 55s 45ms/step - loss: 0.0054 - accuracy: 0.9982 - auc: 0.9997\n",
      "Epoch 7/10\n",
      "1228/1228 [==============================] - 52s 43ms/step - loss: 0.0034 - accuracy: 0.9989 - auc: 0.9999\n",
      "Epoch 8/10\n",
      "1228/1228 [==============================] - 57s 46ms/step - loss: 0.0047 - accuracy: 0.9988 - auc: 0.9997\n",
      "Epoch 9/10\n",
      "1228/1228 [==============================] - 54s 44ms/step - loss: 0.0057 - accuracy: 0.9983 - auc: 0.9996\n",
      "Epoch 10/10\n",
      "1228/1228 [==============================] - 54s 44ms/step - loss: 0.0033 - accuracy: 0.9990 - auc: 0.9999\n"
     ]
    },
    {
     "data": {
      "text/plain": [
       "<keras.callbacks.History at 0x22fe9071640>"
      ]
     },
     "execution_count": 21,
     "metadata": {},
     "output_type": "execute_result"
    }
   ],
   "source": [
    "model.fit(x_train, y_trainCat, batch_size=batch, epochs=epochs, class_weight= class_weight_dict)#, steps_per_epoch=iterationsPerEp)"
   ]
  },
  {
   "cell_type": "code",
   "execution_count": null,
   "id": "031490f2-f0c6-488e-b7e9-92a27dfa2ca1",
   "metadata": {},
   "outputs": [],
   "source": [
    "# classDist = fallRaw.value_counts()\n",
    "# total = len(df)\n",
    "# percentage_distribution = (classDist / total) * 100\n",
    "\n",
    "# plt.figure(figsize= [10,10])\n",
    "# plt.pie(percentage_distribution, labels=percentage_distribution.index, autopct='%1.1f%%', startangle=90)\n",
    "# plt.title('Class Distribution Percentage')\n",
    "# plt.show()"
   ]
  },
  {
   "cell_type": "code",
   "execution_count": 23,
   "id": "9795b89d-35c2-48a2-9d5c-d69d8267b045",
   "metadata": {},
   "outputs": [
    {
     "name": "stdout",
     "output_type": "stream",
     "text": [
      "614/614 [==============================] - 2s 3ms/step\n"
     ]
    },
    {
     "data": {
      "text/plain": [
       "(19638, 2)"
      ]
     },
     "execution_count": 23,
     "metadata": {},
     "output_type": "execute_result"
    }
   ],
   "source": [
    "predictions = model.predict(x_test)\n",
    "predictions.shape"
   ]
  },
  {
   "cell_type": "code",
   "execution_count": 24,
   "id": "c53e2f80-738e-4514-94df-17a83aa368b7",
   "metadata": {},
   "outputs": [
    {
     "data": {
      "text/plain": [
       "array([[17557,    96],\n",
       "       [    0,  1985]], dtype=int64)"
      ]
     },
     "execution_count": 24,
     "metadata": {},
     "output_type": "execute_result"
    }
   ],
   "source": [
    "yTrueClasses = y_test\n",
    "yPredClasses = np.argmax(predictions, axis=1)\n",
    "confMat = confusion_matrix(yTrueClasses, yPredClasses)\n",
    "confMat"
   ]
  },
  {
   "cell_type": "code",
   "execution_count": 25,
   "id": "4275a146-fffc-4940-a196-2710f5140db2",
   "metadata": {},
   "outputs": [
    {
     "data": {
      "image/png": "[encoded data removed]",
      "text/plain": [
       "<Figure size 1000x1000 with 2 Axes>"
      ]
     },
     "metadata": {},
     "output_type": "display_data"
    }
   ],
   "source": [
    "classes = ['0', '1']\n",
    "plt.figure(figsize=[10,10])\n",
    "confMatPerc = confMat.astype('float') / confMat.sum(axis=1)[:, np.newaxis] * 100\n",
    "sns.heatmap(confMatPerc , annot=True, fmt='0.2f', cmap='Blues', xticklabels=classes, yticklabels=classes)\n",
    "plt.xlabel('Predicted')\n",
    "plt.ylabel('True')\n",
    "plt.title('Confusion Matrix')\n",
    "plt.show()"
   ]
  },
  {
   "cell_type": "code",
   "execution_count": 26,
   "id": "1942004c-6035-4f88-bcc7-24b232d96687",
   "metadata": {},
   "outputs": [
    {
     "data": {
      "text/plain": [
       "0.9972809154251402"
      ]
     },
     "execution_count": 26,
     "metadata": {},
     "output_type": "execute_result"
    }
   ],
   "source": [
    "aucScore = roc_auc_score(yTrueClasses, yPredClasses)\n",
    "aucScore"
   ]
  },
  {
   "cell_type": "code",
   "execution_count": 27,
   "id": "4016b713-b0b8-421a-9593-8e89654cf816",
   "metadata": {},
   "outputs": [
    {
     "data": {
      "text/plain": [
       "0.9763895720609936"
      ]
     },
     "execution_count": 27,
     "metadata": {},
     "output_type": "execute_result"
    }
   ],
   "source": [
    "f1 = f1_score(yTrueClasses, yPredClasses)\n",
    "f1"
   ]
  },
  {
   "cell_type": "code",
   "execution_count": 29,
   "id": "cb4face3-35ac-4676-8947-5ab9818834d5",
   "metadata": {},
   "outputs": [
    {
     "data": {
      "text/plain": [
       "0.9972809154251402"
      ]
     },
     "execution_count": 29,
     "metadata": {},
     "output_type": "execute_result"
    }
   ],
   "source": [
    "bacc = balanced_accuracy_score(yTrueClasses, yPredClasses)\n",
    "bacc"
   ]
  }
 ],
 "metadata": {
  "kernelspec": {
   "display_name": "Python 3 (ipykernel)",
   "language": "python",
   "name": "python3"
  },
  "language_info": {
   "codemirror_mode": {
    "name": "ipython",
    "version": 3
   },
   "file_extension": ".py",
   "mimetype": "text/x-python",
   "name": "python",
   "nbconvert_exporter": "python",
   "pygments_lexer": "ipython3",
   "version": "3.8.0"
  }
 },
 "nbformat": 4,
 "nbformat_minor": 5
}
