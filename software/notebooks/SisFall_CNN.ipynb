{
 "cells": [
  {
   "cell_type": "code",
   "execution_count": 1,
   "id": "initial_id",
   "metadata": {
    "collapsed": true,
    "ExecuteTime": {
     "end_time": "2024-01-27T08:34:21.282061Z",
     "start_time": "2024-01-27T08:34:17.780644Z"
    }
   },
   "outputs": [
    {
     "name": "stderr",
     "output_type": "stream",
     "text": [
      "/Users/helenamehler/PycharmProjects/fallDetection/venv/lib/python3.9/site-packages/urllib3/__init__.py:34: NotOpenSSLWarning: urllib3 v2 only supports OpenSSL 1.1.1+, currently the 'ssl' module is compiled with 'LibreSSL 2.8.3'. See: https://github.com/urllib3/urllib3/issues/3020\n",
      "  warnings.warn(\n"
     ]
    }
   ],
   "source": [
    "import keras.metrics\n",
    "import pandas as pd\n",
    "import seaborn as sns\n",
    "import numpy as np\n",
    "import matplotlib.pyplot as plt\n",
    "from sklearn.preprocessing import MinMaxScaler\n",
    "from sklearn.model_selection import train_test_split\n",
    "from sklearn.preprocessing import LabelEncoder\n",
    "from keras.utils import to_categorical\n",
    "from tensorflow.keras import models, layers\n",
    "from keras.layers import Conv1D, MaxPooling1D, Flatten, Dense, Dropout, LSTM, Reshape, BatchNormalization, LeakyReLU\n",
    "from sklearn.metrics import confusion_matrix\n",
    "from sklearn.metrics import accuracy_score, f1_score, roc_auc_score\n",
    "import keras\n",
    "import tensorflow as tf\n",
    "import os\n",
    "from sklearn.utils import class_weight"
   ]
  },
  {
   "cell_type": "code",
   "execution_count": 2,
   "outputs": [],
   "source": [
    "def windowing(x, y, window_size, overlap, fall = 2):\n",
    "    windows = []\n",
    "    y_labels = []\n",
    "\n",
    "    step_size = window_size - overlap\n",
    "\n",
    "    for i in range(0, len(x) - window_size + 1, step_size):\n",
    "        window = x.iloc[i:(i + window_size), :]\n",
    "        windows.append(window)\n",
    "        if np.sum(y[i:i + window_size] >= fall) >= 30:\n",
    "            y_labels.append(1)\n",
    "        else:\n",
    "            y_labels.append(0)\n",
    "\n",
    "    return np.array(windows), np.array(y_labels)"
   ],
   "metadata": {
    "collapsed": false,
    "ExecuteTime": {
     "end_time": "2024-01-27T08:34:24.639806Z",
     "start_time": "2024-01-27T08:34:24.622304Z"
    }
   },
   "id": "d75ebaf34d3e96c9"
  },
  {
   "cell_type": "code",
   "execution_count": 3,
   "outputs": [],
   "source": [
    "data_path = '../../dataSets/SisFall_labelled'\n",
    "dfs = []\n",
    "\n",
    "for root, dirs, files in os.walk(data_path):\n",
    "    for file in files:\n",
    "        file_path = os.path.join(root, file)\n",
    "        if '.csv' in file:\n",
    "            dfs.append(pd.read_csv(file_path, index_col=0))"
   ],
   "metadata": {
    "collapsed": false,
    "ExecuteTime": {
     "end_time": "2024-01-27T08:34:31.383018Z",
     "start_time": "2024-01-27T08:34:25.298105Z"
    }
   },
   "id": "8f4a033f05dc67ca"
  },
  {
   "cell_type": "code",
   "execution_count": 4,
   "outputs": [],
   "source": [
    "window_size = 200\n",
    "overlap = 50"
   ],
   "metadata": {
    "collapsed": false,
    "ExecuteTime": {
     "end_time": "2024-01-27T08:34:56.406149Z",
     "start_time": "2024-01-27T08:34:56.387748Z"
    }
   },
   "id": "a1d32c842f182460"
  },
  {
   "cell_type": "code",
   "execution_count": 39,
   "outputs": [],
   "source": [
    "windowed_x = []\n",
    "windowed_y = []\n",
    "for i, dataset in enumerate(dfs):\n",
    "    x_w, y_w = windowing(dataset.drop(columns = ['fall']), dataset['fall'], window_size, overlap)\n",
    "    windowed_x.extend(x_w)\n",
    "    windowed_y.extend(y_w)"
   ],
   "metadata": {
    "collapsed": false,
    "ExecuteTime": {
     "end_time": "2024-01-27T11:47:01.989019Z",
     "start_time": "2024-01-27T11:46:51.283950Z"
    }
   },
   "id": "7ba5f97faf3f7db4"
  },
  {
   "cell_type": "code",
   "execution_count": 40,
   "outputs": [],
   "source": [
    "x_train = []\n",
    "y_train = []\n",
    "x_test = []\n",
    "y_test = []\n",
    "for i in range(len(windowed_x)):\n",
    "    if np.random.rand(1)[0] < 0.2:\n",
    "        x_test.append(windowed_x[i])\n",
    "        y_test.append(windowed_y[i])\n",
    "    else:\n",
    "        x_train.append(windowed_x[i])\n",
    "\n",
    "        y_train.append(windowed_y[i])"
   ],
   "metadata": {
    "collapsed": false,
    "ExecuteTime": {
     "end_time": "2024-01-27T11:47:03.427337Z",
     "start_time": "2024-01-27T11:47:03.333791Z"
    }
   },
   "id": "702e470ee3a4ec8d"
  },
  {
   "cell_type": "code",
   "execution_count": 49,
   "outputs": [],
   "source": [
    "x_train_modified = [(arr * (2 * 16) / (2 ** 13)) for arr in x_train]\n",
    "x_train_cut = [np.clip(arr, -4, 4) for arr in x_train_modified]\n",
    "\n",
    "\n",
    "x_test_modified = [(arr * (2 * 16) / (2 ** 13)) for arr in x_test]\n",
    "x_test_cut = [np.clip(arr, -4, 4) for arr in x_test_modified]"
   ],
   "metadata": {
    "collapsed": false,
    "ExecuteTime": {
     "end_time": "2024-01-27T11:53:32.370519Z",
     "start_time": "2024-01-27T11:53:29.177260Z"
    }
   },
   "id": "28fdc758552650a3"
  },
  {
   "cell_type": "code",
   "execution_count": 7,
   "outputs": [],
   "source": [
    "scaler = MinMaxScaler((-4, 4))\n",
    "\n",
    "x_train = np.array(x_train)\n",
    "x_train = scaler.fit_transform(x_train.reshape(-1, x_train.shape[-1])).reshape(x_train.shape)\n",
    "\n",
    "x_test = np.array(x_test)\n",
    "x_test = scaler.transform(x_test.reshape(-1, x_test.shape[-1])).reshape(x_test.shape)\n",
    "\n",
    "y_train = np.array(y_train)\n",
    "y_test = np.array(y_test)"
   ],
   "metadata": {
    "collapsed": false,
    "ExecuteTime": {
     "end_time": "2024-01-27T08:36:08.281825Z",
     "start_time": "2024-01-27T08:36:05.106101Z"
    }
   },
   "id": "a72100129651c6de"
  },
  {
   "cell_type": "code",
   "execution_count": 54,
   "outputs": [],
   "source": [
    "y_trainCat = to_categorical(y_train, num_classes=2)\n",
    "input_shape = (200, 3)"
   ],
   "metadata": {
    "collapsed": false,
    "ExecuteTime": {
     "end_time": "2024-01-27T11:55:21.979691Z",
     "start_time": "2024-01-27T11:55:21.973399Z"
    }
   },
   "id": "87babe5cf5e3b1a4"
  },
  {
   "cell_type": "code",
   "execution_count": 59,
   "outputs": [],
   "source": [
    "class_weights = class_weight.compute_class_weight('balanced', classes = np.unique(y_train),y = y_train)\n",
    "weight = {i : class_weights[i] for i in range(len(class_weights))}"
   ],
   "metadata": {
    "collapsed": false,
    "ExecuteTime": {
     "end_time": "2024-01-17T16:00:09.510515Z",
     "start_time": "2024-01-17T16:00:09.483548Z"
    }
   },
   "id": "3a15dd2ac359348a"
  },
  {
   "cell_type": "markdown",
   "source": [
    "trying out different models, but best one is still the first one"
   ],
   "metadata": {
    "collapsed": false
   },
   "id": "50c361275f61f979"
  },
  {
   "cell_type": "code",
   "execution_count": 50,
   "outputs": [],
   "source": [
    "model = models.Sequential()\n",
    "model.add(layers.Conv1D(6, kernel_size=4, activation='relu', input_shape=input_shape, padding='same', name='Accelerometer'))\n",
    "\n",
    "model.add(layers.BatchNormalization())\n",
    "\n",
    "model.add(layers.MaxPooling1D(pool_size=4, strides=4))\n",
    "\n",
    "model.add(layers.Conv1D(12, kernel_size=4, activation='relu', padding='same'))\n",
    "\n",
    "model.add(layers.BatchNormalization())\n",
    "\n",
    "model.add(layers.MaxPooling1D(pool_size=4, strides=4))\n",
    "model.add(layers.Flatten())\n",
    "\n",
    "model.add(layers.Dense(128, activation='relu'))\n",
    "model.add(layers.BatchNormalization())\n",
    "\n",
    "model.add(layers.Dropout(0.3))\n",
    "model.add(layers.Dense(2, activation='softmax', name='Fall'))\n",
    "\n",
    "model.compile(optimizer='adam', loss='categorical_crossentropy', metrics=['accuracy', keras.metrics.AUC(), keras.metrics.Precision(), keras.metrics.Recall()])\n"
   ],
   "metadata": {
    "collapsed": false,
    "ExecuteTime": {
     "end_time": "2024-01-27T11:53:39.001160Z",
     "start_time": "2024-01-27T11:53:38.795409Z"
    }
   },
   "id": "639870351950804c"
  },
  {
   "cell_type": "code",
   "execution_count": 90,
   "outputs": [],
   "source": [
    "model = models.Sequential()\n",
    "model.add(layers.Conv1D(6, kernel_size=4, activation='relu', input_shape=input, padding='same'))\n",
    "\n",
    "model.add(layers.MaxPooling1D(pool_size=4, strides=4))\n",
    "\n",
    "model.add(layers.Conv1D(12, kernel_size=4, activation='relu', padding='same'))\n",
    "\n",
    "model.add(layers.MaxPooling1D(pool_size=4, strides=4))\n",
    "model.add(layers.Flatten())\n",
    "\n",
    "model.add(layers.Dense(128, activation='relu'))\n",
    "model.add(layers.Dropout(0.3))\n",
    "model.add(layers.Dense(2, activation='softmax'))\n",
    "\n",
    "model.compile(optimizer='adam', loss='categorical_crossentropy', metrics=['accuracy'])"
   ],
   "metadata": {
    "collapsed": false,
    "ExecuteTime": {
     "end_time": "2024-01-20T20:24:43.284533Z",
     "start_time": "2024-01-20T20:24:43.116760Z"
    }
   },
   "id": "fbefb21cc4174e12"
  },
  {
   "cell_type": "code",
   "execution_count": 45,
   "outputs": [],
   "source": [
    "model = models.Sequential()\n",
    "model.add(Conv1D(filters=64, kernel_size=4, activation='relu', input_shape=(128,3)))\n",
    "model.add(Conv1D(filters=64, kernel_size=4, activation='relu'))\n",
    "model.add(Dropout(0.5))\n",
    "model.add(MaxPooling1D(pool_size=2))\n",
    "model.add(Flatten())\n",
    "model.add(Dense(100, activation='relu'))\n",
    "model.add(Dense(2, activation='softmax'))\n",
    "model.compile(loss='binary_crossentropy', optimizer='adam', metrics=['accuracy'])"
   ],
   "metadata": {
    "collapsed": false,
    "ExecuteTime": {
     "end_time": "2024-01-17T13:51:55.961266Z",
     "start_time": "2024-01-17T13:51:55.909737Z"
    }
   },
   "id": "a32723b78230d9fd"
  },
  {
   "cell_type": "code",
   "execution_count": 84,
   "outputs": [],
   "source": [
    "model = models.Sequential()\n",
    "\n",
    "# Convolutional layer\n",
    "model.add(Conv1D(filters=64, kernel_size=3, activation='relu', input_shape=(128, 3)))\n",
    "model.add(MaxPooling1D(pool_size=2))\n",
    "\n",
    "# LSTM layer\n",
    "model.add(LSTM(20, activation='relu'))\n",
    "\n",
    "# Dense layer for classification\n",
    "model.add(Dense(2, activation='sigmoid'))\n",
    "\n",
    "# Compile the model\n",
    "model.compile(optimizer='adam', loss='binary_crossentropy', metrics=['accuracy'])\n",
    "\n",
    "#other metric: metrics=[tf.keras.metrics.FalseNegatives(),tf.keras.metrics.FalsePositives(),'accuracy'] "
   ],
   "metadata": {
    "collapsed": false,
    "ExecuteTime": {
     "end_time": "2024-01-20T20:19:41.890043Z",
     "start_time": "2024-01-20T20:19:41.786415Z"
    }
   },
   "id": "91637ac1819cb4c0"
  },
  {
   "cell_type": "code",
   "execution_count": 55,
   "outputs": [
    {
     "name": "stdout",
     "output_type": "stream",
     "text": [
      "Epoch 1/20\n",
      "1010/1010 [==============================] - 6s 5ms/step - loss: 0.1117 - accuracy: 0.9633 - auc_2: 0.9915 - precision_2: 0.9633 - recall_2: 0.9633\n",
      "Epoch 2/20\n",
      "1010/1010 [==============================] - 5s 5ms/step - loss: 0.0298 - accuracy: 0.9917 - auc_2: 0.9984 - precision_2: 0.9917 - recall_2: 0.9917\n",
      "Epoch 3/20\n",
      "1010/1010 [==============================] - 5s 5ms/step - loss: 0.0247 - accuracy: 0.9930 - auc_2: 0.9989 - precision_2: 0.9930 - recall_2: 0.9930\n",
      "Epoch 4/20\n",
      "1010/1010 [==============================] - 5s 5ms/step - loss: 0.0215 - accuracy: 0.9938 - auc_2: 0.9991 - precision_2: 0.9938 - recall_2: 0.9938\n",
      "Epoch 5/20\n",
      "1010/1010 [==============================] - 5s 5ms/step - loss: 0.0198 - accuracy: 0.9942 - auc_2: 0.9992 - precision_2: 0.9942 - recall_2: 0.9942\n",
      "Epoch 6/20\n",
      "1010/1010 [==============================] - 6s 6ms/step - loss: 0.0184 - accuracy: 0.9941 - auc_2: 0.9993 - precision_2: 0.9941 - recall_2: 0.9941\n",
      "Epoch 7/20\n",
      "1010/1010 [==============================] - 5s 5ms/step - loss: 0.0182 - accuracy: 0.9943 - auc_2: 0.9993 - precision_2: 0.9943 - recall_2: 0.9943\n",
      "Epoch 8/20\n",
      "1010/1010 [==============================] - 5s 5ms/step - loss: 0.0167 - accuracy: 0.9949 - auc_2: 0.9994 - precision_2: 0.9949 - recall_2: 0.9949\n",
      "Epoch 9/20\n",
      "1010/1010 [==============================] - 5s 5ms/step - loss: 0.0155 - accuracy: 0.9950 - auc_2: 0.9996 - precision_2: 0.9950 - recall_2: 0.9950\n",
      "Epoch 10/20\n",
      "1010/1010 [==============================] - 5s 5ms/step - loss: 0.0156 - accuracy: 0.9948 - auc_2: 0.9995 - precision_2: 0.9948 - recall_2: 0.9948\n",
      "Epoch 11/20\n",
      "1010/1010 [==============================] - 6s 5ms/step - loss: 0.0147 - accuracy: 0.9953 - auc_2: 0.9995 - precision_2: 0.9953 - recall_2: 0.9953\n",
      "Epoch 12/20\n",
      "1010/1010 [==============================] - 6s 6ms/step - loss: 0.0140 - accuracy: 0.9954 - auc_2: 0.9996 - precision_2: 0.9954 - recall_2: 0.9954\n",
      "Epoch 13/20\n",
      "1010/1010 [==============================] - 5s 5ms/step - loss: 0.0138 - accuracy: 0.9954 - auc_2: 0.9996 - precision_2: 0.9954 - recall_2: 0.9954\n",
      "Epoch 14/20\n",
      "1010/1010 [==============================] - 5s 5ms/step - loss: 0.0130 - accuracy: 0.9958 - auc_2: 0.9996 - precision_2: 0.9958 - recall_2: 0.9958\n",
      "Epoch 15/20\n",
      "1010/1010 [==============================] - 5s 5ms/step - loss: 0.0128 - accuracy: 0.9958 - auc_2: 0.9996 - precision_2: 0.9958 - recall_2: 0.9958\n",
      "Epoch 16/20\n",
      "1010/1010 [==============================] - 6s 6ms/step - loss: 0.0131 - accuracy: 0.9957 - auc_2: 0.9996 - precision_2: 0.9957 - recall_2: 0.9957\n",
      "Epoch 17/20\n",
      "1010/1010 [==============================] - 7s 7ms/step - loss: 0.0122 - accuracy: 0.9960 - auc_2: 0.9997 - precision_2: 0.9960 - recall_2: 0.9960\n",
      "Epoch 18/20\n",
      "1010/1010 [==============================] - 7s 7ms/step - loss: 0.0117 - accuracy: 0.9960 - auc_2: 0.9997 - precision_2: 0.9960 - recall_2: 0.9960\n",
      "Epoch 19/20\n",
      "1010/1010 [==============================] - 6s 6ms/step - loss: 0.0116 - accuracy: 0.9959 - auc_2: 0.9997 - precision_2: 0.9959 - recall_2: 0.9959\n",
      "Epoch 20/20\n",
      "1010/1010 [==============================] - 6s 5ms/step - loss: 0.0113 - accuracy: 0.9962 - auc_2: 0.9997 - precision_2: 0.9962 - recall_2: 0.9962\n"
     ]
    },
    {
     "data": {
      "text/plain": "<keras.src.callbacks.History at 0x2d740b340>"
     },
     "execution_count": 55,
     "metadata": {},
     "output_type": "execute_result"
    }
   ],
   "source": [
    "x_train_cut = np.array(x_train_cut)\n",
    "batch = 80\n",
    "epochs = 20\n",
    "iterationsPerEp = x_train_cut.shape[0] // batch\n",
    "model.fit(x_train_cut, y_trainCat, batch_size=batch, epochs=epochs, steps_per_epoch=iterationsPerEp)"
   ],
   "metadata": {
    "collapsed": false,
    "ExecuteTime": {
     "end_time": "2024-01-27T11:57:19.404189Z",
     "start_time": "2024-01-27T11:55:28.459795Z"
    }
   },
   "id": "3d7809e108db45cf"
  },
  {
   "cell_type": "code",
   "execution_count": 57,
   "outputs": [
    {
     "name": "stdout",
     "output_type": "stream",
     "text": [
      "636/636 [==============================] - 1s 843us/step\n"
     ]
    },
    {
     "data": {
      "text/plain": "array([[19737,    43],\n       [   61,   487]])"
     },
     "execution_count": 57,
     "metadata": {},
     "output_type": "execute_result"
    }
   ],
   "source": [
    "x_test_cut = np.array(x_test_cut)\n",
    "predictions = model.predict(x_test_cut)\n",
    "yPredClasses = np.argmax(predictions, axis=1)\n",
    "confMat = confusion_matrix(y_test, yPredClasses)\n",
    "confMat"
   ],
   "metadata": {
    "collapsed": false,
    "ExecuteTime": {
     "end_time": "2024-01-27T12:17:41.077117Z",
     "start_time": "2024-01-27T12:17:38.590714Z"
    }
   },
   "id": "62bb1ada627a3284"
  },
  {
   "cell_type": "code",
   "execution_count": 58,
   "outputs": [
    {
     "name": "stdout",
     "output_type": "stream",
     "text": [
      "Accuracy 0.9948839039748131\n",
      "F1-Score 0.9035250463821893\n",
      "AUC 0.9432561091716914\n"
     ]
    }
   ],
   "source": [
    "print('Accuracy', accuracy_score(y_test, yPredClasses))\n",
    "print('F1-Score', f1_score(y_test, yPredClasses))\n",
    "print('AUC', roc_auc_score(y_test, yPredClasses))"
   ],
   "metadata": {
    "collapsed": false,
    "ExecuteTime": {
     "end_time": "2024-01-27T12:17:46.563954Z",
     "start_time": "2024-01-27T12:17:46.526976Z"
    }
   },
   "id": "7b8e3548e85f6e1b"
  },
  {
   "cell_type": "code",
   "execution_count": 71,
   "outputs": [],
   "source": [
    "self_collected = pd.read_csv('../../dataSets/Self_collected/paul_fall_2.csv', header=None)\n",
    "self_collected = self_collected.iloc[:, :3]\n",
    "#zero_rows = pd.DataFrame(0, index=range(20), columns=self_collected.columns)\n",
    "#self_collected = pd.concat([self_collected, zero_rows], ignore_index=True)\n",
    "\n",
    "y = np.zeros(len(self_collected))\n",
    "windowed_real_x, windowed_real_y = windowing(self_collected, y, window_size, overlap)"
   ],
   "metadata": {
    "collapsed": false,
    "ExecuteTime": {
     "end_time": "2024-01-27T12:21:25.625292Z",
     "start_time": "2024-01-27T12:21:25.600534Z"
    }
   },
   "id": "bff849a200633549"
  },
  {
   "cell_type": "code",
   "execution_count": 72,
   "outputs": [
    {
     "name": "stdout",
     "output_type": "stream",
     "text": [
      "1/1 [==============================] - 0s 12ms/step\n"
     ]
    },
    {
     "data": {
      "text/plain": "array([1])"
     },
     "execution_count": 72,
     "metadata": {},
     "output_type": "execute_result"
    }
   ],
   "source": [
    "predictions_test = model.predict(windowed_real_x)\n",
    "yPredClasses_test = np.argmax(predictions_test, axis=1)\n",
    "confMat = confusion_matrix(windowed_real_y, yPredClasses_test)\n",
    "confMat"
   ],
   "metadata": {
    "collapsed": false,
    "ExecuteTime": {
     "end_time": "2024-01-27T12:21:35.024112Z",
     "start_time": "2024-01-27T12:21:34.945727Z"
    }
   },
   "id": "493b81eb6e53f70e"
  }
 ],
 "metadata": {
  "kernelspec": {
   "display_name": "Python 3",
   "language": "python",
   "name": "python3"
  },
  "language_info": {
   "codemirror_mode": {
    "name": "ipython",
    "version": 2
   },
   "file_extension": ".py",
   "mimetype": "text/x-python",
   "name": "python",
   "nbconvert_exporter": "python",
   "pygments_lexer": "ipython2",
   "version": "2.7.6"
  }
 },
 "nbformat": 4,
 "nbformat_minor": 5
}
