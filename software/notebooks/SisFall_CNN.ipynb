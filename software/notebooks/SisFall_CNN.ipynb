{
 "cells": [
  {
   "cell_type": "code",
   "execution_count": 92,
   "id": "initial_id",
   "metadata": {
    "collapsed": true,
    "ExecuteTime": {
     "end_time": "2024-01-16T13:32:07.731504Z",
     "start_time": "2024-01-16T13:32:07.701625Z"
    }
   },
   "outputs": [],
   "source": [
    "import keras.metrics\n",
    "import pandas as pd\n",
    "import seaborn as sns\n",
    "import numpy as np\n",
    "import matplotlib.pyplot as plt\n",
    "from sklearn.preprocessing import MinMaxScaler\n",
    "from sklearn.model_selection import train_test_split\n",
    "from sklearn.preprocessing import LabelEncoder\n",
    "from keras.utils import to_categorical\n",
    "from tensorflow.keras import models, layers\n",
    "from keras.layers import Conv1D, MaxPooling1D, Flatten, Dense, Dropout, LSTM, Reshape, BatchNormalization, LeakyReLU\n",
    "from sklearn.metrics import confusion_matrix\n",
    "from sklearn.metrics import accuracy_score, f1_score, roc_auc_score\n",
    "import keras\n",
    "import tensorflow as tf\n",
    "import os\n",
    "from sklearn.utils import class_weight"
   ]
  },
  {
   "cell_type": "code",
   "execution_count": 93,
   "outputs": [],
   "source": [
    "def windowing(x, y, window_size, overlap):\n",
    "    windows = []\n",
    "    y_labels = []\n",
    "\n",
    "    step_size = window_size - overlap\n",
    "\n",
    "    for i in range(0, len(x) - window_size + 1, step_size):\n",
    "        window = x.iloc[i:(i + window_size), :]\n",
    "        windows.append(window)\n",
    "\n",
    "        if np.sum(y[i:i + window_size] == 2) >= 50:\n",
    "            y_labels.append(1)\n",
    "        else:\n",
    "            y_labels.append(0)\n",
    "\n",
    "    return np.array(windows), np.array(y_labels)"
   ],
   "metadata": {
    "collapsed": false,
    "ExecuteTime": {
     "end_time": "2024-01-16T13:32:07.744227Z",
     "start_time": "2024-01-16T13:32:07.712912Z"
    }
   },
   "id": "2211d18395155ad"
  },
  {
   "cell_type": "code",
   "execution_count": 94,
   "outputs": [],
   "source": [
    "data_path = '../../dataSets/SisFall_labelled'\n",
    "dfs = []\n",
    "\n",
    "for root, dirs, files in os.walk(data_path):\n",
    "    for file in files:\n",
    "        file_path = os.path.join(root, file)\n",
    "        dfs.append(pd.read_csv(file_path, index_col=0))"
   ],
   "metadata": {
    "collapsed": false,
    "ExecuteTime": {
     "end_time": "2024-01-16T13:32:13.922275Z",
     "start_time": "2024-01-16T13:32:08.573195Z"
    }
   },
   "id": "e4d6e3ef6669bf14"
  },
  {
   "cell_type": "code",
   "execution_count": 95,
   "outputs": [],
   "source": [
    "window_size = 200\n",
    "overlap = 100"
   ],
   "metadata": {
    "collapsed": false,
    "ExecuteTime": {
     "end_time": "2024-01-16T13:32:13.924255Z",
     "start_time": "2024-01-16T13:32:13.921909Z"
    }
   },
   "id": "be25cac655299dfb"
  },
  {
   "cell_type": "code",
   "execution_count": 96,
   "outputs": [],
   "source": [
    "windowed_x = []\n",
    "windowed_y = []\n",
    "for i, dataset in enumerate(dfs):\n",
    "    x_w, y_w = windowing(dataset.drop(columns = ['fall']), dataset['fall'], window_size, overlap)\n",
    "    windowed_x.extend(x_w)\n",
    "    windowed_y.extend(y_w)"
   ],
   "metadata": {
    "collapsed": false,
    "ExecuteTime": {
     "end_time": "2024-01-16T13:32:26.847416Z",
     "start_time": "2024-01-16T13:32:13.978465Z"
    }
   },
   "id": "f660c30e9d3a35b3"
  },
  {
   "cell_type": "code",
   "execution_count": 97,
   "outputs": [],
   "source": [
    "x_train = []\n",
    "y_train = []\n",
    "x_test = []\n",
    "y_test = []\n",
    "for i in range(len(windowed_x)):\n",
    "    if np.random.rand(1)[0] < 0.2:\n",
    "        x_test.append(windowed_x[i])\n",
    "        y_test.append(windowed_y[i])\n",
    "    else:\n",
    "        x_train.append(windowed_x[i])\n",
    "\n",
    "        y_train.append(windowed_y[i])"
   ],
   "metadata": {
    "collapsed": false,
    "ExecuteTime": {
     "end_time": "2024-01-16T13:32:26.970401Z",
     "start_time": "2024-01-16T13:32:26.854897Z"
    }
   },
   "id": "717b1f7a263d455e"
  },
  {
   "cell_type": "code",
   "execution_count": 99,
   "outputs": [],
   "source": [
    "scaler = MinMaxScaler()\n",
    "\n",
    "x_train = np.array(x_train)\n",
    "x_train = scaler.fit_transform(x_train.reshape(-1, x_train.shape[-1])).reshape(x_train.shape)\n",
    "\n",
    "x_test = np.array(x_test)\n",
    "x_test = scaler.transform(x_test.reshape(-1, x_test.shape[-1])).reshape(x_test.shape)\n",
    "\n",
    "y_train = np.array(y_train)\n",
    "y_test = np.array(y_test)"
   ],
   "metadata": {
    "collapsed": false,
    "ExecuteTime": {
     "end_time": "2024-01-16T13:32:33.617107Z",
     "start_time": "2024-01-16T13:32:30.779553Z"
    }
   },
   "id": "7f5acd582e7dac00"
  },
  {
   "cell_type": "code",
   "execution_count": 100,
   "outputs": [],
   "source": [
    "y_trainCat = to_categorical(y_train, num_classes=2)\n",
    "input_shape = (200, 3)"
   ],
   "metadata": {
    "collapsed": false,
    "ExecuteTime": {
     "end_time": "2024-01-16T13:32:34.468981Z",
     "start_time": "2024-01-16T13:32:34.456843Z"
    }
   },
   "id": "3bcd6d2288df4fc2"
  },
  {
   "cell_type": "markdown",
   "source": [
    "tried out class weights but did not improve results"
   ],
   "metadata": {
    "collapsed": false
   },
   "id": "96212c1607f04d63"
  },
  {
   "cell_type": "code",
   "execution_count": null,
   "outputs": [],
   "source": [
    "class_weights = class_weight.compute_class_weight('balanced', classes = np.unique(y_train),y = y_train)\n",
    "weight = {i : class_weights[i] for i in range(len(class_weights))}"
   ],
   "metadata": {
    "collapsed": false,
    "ExecuteTime": {
     "end_time": "2024-01-16T13:32:28.323611Z",
     "start_time": "2024-01-16T13:32:28.322597Z"
    }
   },
   "id": "e41bea32d16fd9b3"
  },
  {
   "cell_type": "markdown",
   "source": [
    "trying out different models, but best one is still the first one"
   ],
   "metadata": {
    "collapsed": false
   },
   "id": "9ff327fd1a319c9c"
  },
  {
   "cell_type": "code",
   "execution_count": 101,
   "outputs": [],
   "source": [
    "model = models.Sequential()\n",
    "model.add(layers.Conv1D(6, kernel_size=4, activation='relu', input_shape=input, padding='same'))\n",
    "\n",
    "model.add(layers.BatchNormalization())\n",
    "\n",
    "model.add(layers.MaxPooling1D(pool_size=4, strides=4))\n",
    "\n",
    "model.add(layers.Conv1D(12, kernel_size=4, activation='relu',padding='same'))\n",
    "\n",
    "model.add(layers.BatchNormalization())\n",
    "\n",
    "model.add(layers.MaxPooling1D(pool_size=4, strides=4))\n",
    "model.add(layers.Flatten())\n",
    "\n",
    "model.add(layers.Dense(128, activation='relu'))\n",
    "model.add(layers.BatchNormalization())\n",
    "\n",
    "model.add(layers.Dropout(0.3))\n",
    "model.add(layers.Dense(2, activation='softmax'))\n",
    "model.compile(optimizer='adam', loss='categorical_crossentropy', metrics=['accuracy', keras.metrics.AUC()])"
   ],
   "metadata": {
    "collapsed": false,
    "ExecuteTime": {
     "end_time": "2024-01-16T13:32:38.342382Z",
     "start_time": "2024-01-16T13:32:38.251319Z"
    }
   },
   "id": "95ed6ff1dbed593"
  },
  {
   "cell_type": "code",
   "execution_count": null,
   "outputs": [],
   "source": [
    "model = models.Sequential()\n",
    "model.add(Conv1D(filters=64, kernel_size=4, activation='relu', input_shape=(200,3)))\n",
    "model.add(Conv1D(filters=64, kernel_size=4, activation='relu'))\n",
    "model.add(Dropout(0.5))\n",
    "model.add(MaxPooling1D(pool_size=2))\n",
    "model.add(Flatten())\n",
    "model.add(Dense(100, activation='relu'))\n",
    "model.add(Dense(2, activation='softmax'))\n",
    "model.compile(loss='binary_crossentropy', optimizer='adam', metrics=['accuracy'])"
   ],
   "metadata": {
    "collapsed": false,
    "ExecuteTime": {
     "start_time": "2024-01-16T13:32:28.326303Z"
    }
   },
   "id": "c5a296e591ba3ba9"
  },
  {
   "cell_type": "code",
   "execution_count": null,
   "outputs": [],
   "source": [
    "model = models.Sequential()\n",
    "\n",
    "# Convolutional layer\n",
    "model.add(Conv1D(filters=64, kernel_size=3, activation='relu', input_shape=(200, 3)))\n",
    "model.add(MaxPooling1D(pool_size=2))\n",
    "\n",
    "# LSTM layer\n",
    "model.add(LSTM(20, activation='relu'))\n",
    "\n",
    "# Dense layer for classification\n",
    "model.add(Dense(2, activation='sigmoid'))\n",
    "\n",
    "# Compile the model\n",
    "model.compile(optimizer='adam', loss='binary_crossentropy', metrics=['accuracy'])\n",
    "\n",
    "#other metric: metrics=[tf.keras.metrics.FalseNegatives(),tf.keras.metrics.FalsePositives(),'accuracy'] "
   ],
   "metadata": {
    "collapsed": false,
    "ExecuteTime": {
     "start_time": "2024-01-16T13:32:28.327805Z"
    }
   },
   "id": "bde4682910865e79"
  },
  {
   "cell_type": "code",
   "execution_count": 102,
   "outputs": [
    {
     "name": "stdout",
     "output_type": "stream",
     "text": [
      "Epoch 1/40\n",
      "1530/1530 [==============================] - 8s 5ms/step - loss: 0.0932 - accuracy: 0.9737 - auc_5: 0.9928\n",
      "Epoch 2/40\n",
      "1530/1530 [==============================] - 6s 4ms/step - loss: 0.0397 - accuracy: 0.9870 - auc_5: 0.9983\n",
      "Epoch 3/40\n",
      "1530/1530 [==============================] - 6s 4ms/step - loss: 0.0336 - accuracy: 0.9876 - auc_5: 0.9989\n",
      "Epoch 4/40\n",
      "1530/1530 [==============================] - 6s 4ms/step - loss: 0.0315 - accuracy: 0.9882 - auc_5: 0.9991\n",
      "Epoch 5/40\n",
      "1530/1530 [==============================] - 6s 4ms/step - loss: 0.0296 - accuracy: 0.9888 - auc_5: 0.9991\n",
      "Epoch 6/40\n",
      "1530/1530 [==============================] - 6s 4ms/step - loss: 0.0282 - accuracy: 0.9895 - auc_5: 0.9993\n",
      "Epoch 7/40\n",
      "1530/1530 [==============================] - 6s 4ms/step - loss: 0.0273 - accuracy: 0.9897 - auc_5: 0.9992\n",
      "Epoch 8/40\n",
      "1530/1530 [==============================] - 6s 4ms/step - loss: 0.0261 - accuracy: 0.9900 - auc_5: 0.9994\n",
      "Epoch 9/40\n",
      "1530/1530 [==============================] - 6s 4ms/step - loss: 0.0255 - accuracy: 0.9900 - auc_5: 0.9994\n",
      "Epoch 10/40\n",
      "1530/1530 [==============================] - 6s 4ms/step - loss: 0.0250 - accuracy: 0.9901 - auc_5: 0.9994\n",
      "Epoch 11/40\n",
      "1530/1530 [==============================] - 6s 4ms/step - loss: 0.0239 - accuracy: 0.9907 - auc_5: 0.9994\n",
      "Epoch 12/40\n",
      "1530/1530 [==============================] - 6s 4ms/step - loss: 0.0237 - accuracy: 0.9905 - auc_5: 0.9995\n",
      "Epoch 13/40\n",
      "1530/1530 [==============================] - 6s 4ms/step - loss: 0.0230 - accuracy: 0.9910 - auc_5: 0.9994\n",
      "Epoch 14/40\n",
      "1530/1530 [==============================] - 6s 4ms/step - loss: 0.0228 - accuracy: 0.9912 - auc_5: 0.9995\n",
      "Epoch 15/40\n",
      "1530/1530 [==============================] - 6s 4ms/step - loss: 0.0227 - accuracy: 0.9909 - auc_5: 0.9995\n",
      "Epoch 16/40\n",
      "1530/1530 [==============================] - 6s 4ms/step - loss: 0.0225 - accuracy: 0.9912 - auc_5: 0.9995\n",
      "Epoch 17/40\n",
      "1530/1530 [==============================] - 6s 4ms/step - loss: 0.0219 - accuracy: 0.9914 - auc_5: 0.9995\n",
      "Epoch 18/40\n",
      "1530/1530 [==============================] - 6s 4ms/step - loss: 0.0225 - accuracy: 0.9913 - auc_5: 0.9994\n",
      "Epoch 19/40\n",
      "1530/1530 [==============================] - 6s 4ms/step - loss: 0.0214 - accuracy: 0.9915 - auc_5: 0.9996\n",
      "Epoch 20/40\n",
      "1530/1530 [==============================] - 6s 4ms/step - loss: 0.0209 - accuracy: 0.9921 - auc_5: 0.9996\n",
      "Epoch 21/40\n",
      "1530/1530 [==============================] - 6s 4ms/step - loss: 0.0208 - accuracy: 0.9921 - auc_5: 0.9996\n",
      "Epoch 22/40\n",
      "1530/1530 [==============================] - 6s 4ms/step - loss: 0.0200 - accuracy: 0.9920 - auc_5: 0.9996\n",
      "Epoch 23/40\n",
      "1530/1530 [==============================] - 6s 4ms/step - loss: 0.0202 - accuracy: 0.9926 - auc_5: 0.9996\n",
      "Epoch 24/40\n",
      "1530/1530 [==============================] - 6s 4ms/step - loss: 0.0198 - accuracy: 0.9924 - auc_5: 0.9996\n",
      "Epoch 25/40\n",
      "1530/1530 [==============================] - 6s 4ms/step - loss: 0.0196 - accuracy: 0.9922 - auc_5: 0.9996\n",
      "Epoch 26/40\n",
      "1530/1530 [==============================] - 6s 4ms/step - loss: 0.0198 - accuracy: 0.9924 - auc_5: 0.9996\n",
      "Epoch 27/40\n",
      "1530/1530 [==============================] - 6s 4ms/step - loss: 0.0194 - accuracy: 0.9928 - auc_5: 0.9996\n",
      "Epoch 28/40\n",
      "1530/1530 [==============================] - 6s 4ms/step - loss: 0.0189 - accuracy: 0.9926 - auc_5: 0.9997\n",
      "Epoch 29/40\n",
      "1530/1530 [==============================] - 6s 4ms/step - loss: 0.0187 - accuracy: 0.9929 - auc_5: 0.9996\n",
      "Epoch 30/40\n",
      "1530/1530 [==============================] - 6s 4ms/step - loss: 0.0190 - accuracy: 0.9925 - auc_5: 0.9996\n",
      "Epoch 31/40\n",
      "1530/1530 [==============================] - 6s 4ms/step - loss: 0.0183 - accuracy: 0.9928 - auc_5: 0.9997\n",
      "Epoch 32/40\n",
      "1530/1530 [==============================] - 6s 4ms/step - loss: 0.0182 - accuracy: 0.9931 - auc_5: 0.9996\n",
      "Epoch 33/40\n",
      "1530/1530 [==============================] - 6s 4ms/step - loss: 0.0181 - accuracy: 0.9929 - auc_5: 0.9996\n",
      "Epoch 34/40\n",
      "1530/1530 [==============================] - 6s 4ms/step - loss: 0.0179 - accuracy: 0.9933 - auc_5: 0.9997\n",
      "Epoch 35/40\n",
      "1530/1530 [==============================] - 6s 4ms/step - loss: 0.0175 - accuracy: 0.9934 - auc_5: 0.9997\n",
      "Epoch 36/40\n",
      "1530/1530 [==============================] - 6s 4ms/step - loss: 0.0172 - accuracy: 0.9934 - auc_5: 0.9997\n",
      "Epoch 37/40\n",
      "1530/1530 [==============================] - 6s 4ms/step - loss: 0.0179 - accuracy: 0.9932 - auc_5: 0.9997\n",
      "Epoch 38/40\n",
      "1530/1530 [==============================] - 6s 4ms/step - loss: 0.0174 - accuracy: 0.9934 - auc_5: 0.9997\n",
      "Epoch 39/40\n",
      "1530/1530 [==============================] - 6s 4ms/step - loss: 0.0171 - accuracy: 0.9937 - auc_5: 0.9996\n",
      "Epoch 40/40\n",
      "1530/1530 [==============================] - 6s 4ms/step - loss: 0.0170 - accuracy: 0.9937 - auc_5: 0.9997\n"
     ]
    },
    {
     "data": {
      "text/plain": "<keras.src.callbacks.History at 0x2f18bc700>"
     },
     "execution_count": 102,
     "metadata": {},
     "output_type": "execute_result"
    }
   ],
   "source": [
    "batch = 80\n",
    "epochs = 40\n",
    "iterationsPerEp = x_train.shape[0] // batch\n",
    "model.fit(x_train, y_trainCat, batch_size=batch, epochs=epochs, steps_per_epoch=iterationsPerEp)"
   ],
   "metadata": {
    "collapsed": false,
    "ExecuteTime": {
     "end_time": "2024-01-16T13:36:46.042862Z",
     "start_time": "2024-01-16T13:32:42.406379Z"
    }
   },
   "id": "80025e1d24bddc39"
  },
  {
   "cell_type": "code",
   "execution_count": 103,
   "outputs": [
    {
     "name": "stdout",
     "output_type": "stream",
     "text": [
      "962/962 [==============================] - 1s 648us/step\n"
     ]
    },
    {
     "data": {
      "text/plain": "array([[30148,    61],\n       [  242,   302]])"
     },
     "execution_count": 103,
     "metadata": {},
     "output_type": "execute_result"
    }
   ],
   "source": [
    "predictions = model.predict(x_test)\n",
    "yPredClasses = np.argmax(predictions, axis=1)\n",
    "confMat = confusion_matrix(y_test, yPredClasses)\n",
    "confMat"
   ],
   "metadata": {
    "collapsed": false,
    "ExecuteTime": {
     "end_time": "2024-01-16T13:39:27.746564Z",
     "start_time": "2024-01-16T13:39:26.777267Z"
    }
   },
   "id": "8c25bd99611887e4"
  },
  {
   "cell_type": "code",
   "execution_count": 104,
   "outputs": [
    {
     "name": "stdout",
     "output_type": "stream",
     "text": [
      "Accuracy 0.9901473027021754\n",
      "F1-Score 0.6659316427783903\n",
      "AUC 0.7765638965209044\n"
     ]
    }
   ],
   "source": [
    "print('Accuracy', accuracy_score(y_test, yPredClasses))\n",
    "print('F1-Score', f1_score(y_test, yPredClasses))\n",
    "print('AUC', roc_auc_score(y_test, yPredClasses))"
   ],
   "metadata": {
    "collapsed": false,
    "ExecuteTime": {
     "end_time": "2024-01-16T13:39:29.443775Z",
     "start_time": "2024-01-16T13:39:29.410739Z"
    }
   },
   "id": "5a50383dd10a0dca"
  },
  {
   "cell_type": "code",
   "execution_count": null,
   "outputs": [],
   "source": [],
   "metadata": {
    "collapsed": false
   },
   "id": "d90c391735d314b6"
  }
 ],
 "metadata": {
  "kernelspec": {
   "display_name": "Python 3",
   "language": "python",
   "name": "python3"
  },
  "language_info": {
   "codemirror_mode": {
    "name": "ipython",
    "version": 2
   },
   "file_extension": ".py",
   "mimetype": "text/x-python",
   "name": "python",
   "nbconvert_exporter": "python",
   "pygments_lexer": "ipython2",
   "version": "2.7.6"
  }
 },
 "nbformat": 4,
 "nbformat_minor": 5
}
