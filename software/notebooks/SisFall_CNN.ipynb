{
 "cells": [
  {
   "cell_type": "code",
   "execution_count": 66,
   "id": "initial_id",
   "metadata": {
    "collapsed": true,
    "ExecuteTime": {
     "end_time": "2024-01-08T07:23:26.381285Z",
     "start_time": "2024-01-08T07:23:26.353230Z"
    }
   },
   "outputs": [],
   "source": [
    "import keras.metrics\n",
    "import pandas as pd\n",
    "import seaborn as sns\n",
    "import numpy as np\n",
    "import matplotlib.pyplot as plt\n",
    "from sklearn.preprocessing import MinMaxScaler\n",
    "from sklearn.model_selection import train_test_split\n",
    "from sklearn.preprocessing import LabelEncoder\n",
    "from keras.utils import to_categorical\n",
    "from tensorflow.keras import models, layers\n",
    "from keras.layers import Conv1D, MaxPooling1D, Flatten, Dense, Dropout, LSTM, Reshape, BatchNormalization\n",
    "from sklearn.metrics import confusion_matrix\n",
    "from sklearn.metrics import accuracy_score, f1_score\n",
    "import keras\n",
    "import tensorflow as tf\n",
    "import os"
   ]
  },
  {
   "cell_type": "code",
   "execution_count": 117,
   "outputs": [],
   "source": [
    "def windowing(x, y, window_size, overlap):\n",
    "    windows = []\n",
    "    y_labels = []\n",
    "\n",
    "    step_size = window_size - overlap\n",
    "\n",
    "    for i in range(0, len(x) - window_size + 1, step_size):\n",
    "        window = x.iloc[i:(i + window_size), :]\n",
    "        windows.append(window)\n",
    "\n",
    "        if np.sum(y[i:i + window_size] == 1) >= 3:\n",
    "            y_labels.append(1)\n",
    "        else:\n",
    "            y_labels.append(0)\n",
    "\n",
    "    return np.array(windows), np.array(y_labels)"
   ],
   "metadata": {
    "collapsed": false,
    "ExecuteTime": {
     "end_time": "2024-01-08T07:57:09.252974Z",
     "start_time": "2024-01-08T07:57:09.246354Z"
    }
   },
   "id": "2211d18395155ad"
  },
  {
   "cell_type": "code",
   "execution_count": 118,
   "outputs": [],
   "source": [
    "data_path = '/Users/helenamehler/PycharmProjects/fallDetection/dataSets/SisFall_labelled'\n",
    "dfs = []\n",
    "\n",
    "for root, dirs, files in os.walk(data_path):\n",
    "    for file in files:\n",
    "        file_path = os.path.join(root, file)\n",
    "        dfs.append(pd.read_csv(file_path, index_col=0))"
   ],
   "metadata": {
    "collapsed": false,
    "ExecuteTime": {
     "end_time": "2024-01-08T07:57:17.262225Z",
     "start_time": "2024-01-08T07:57:11.830403Z"
    }
   },
   "id": "e4d6e3ef6669bf14"
  },
  {
   "cell_type": "code",
   "execution_count": 119,
   "outputs": [],
   "source": [
    "window_size = 200\n",
    "overlap = 50"
   ],
   "metadata": {
    "collapsed": false,
    "ExecuteTime": {
     "end_time": "2024-01-08T07:57:20.037777Z",
     "start_time": "2024-01-08T07:57:20.023546Z"
    }
   },
   "id": "be25cac655299dfb"
  },
  {
   "cell_type": "code",
   "execution_count": 120,
   "outputs": [],
   "source": [
    "windowed_x = []\n",
    "windowed_y = []\n",
    "for i, dataset in enumerate(dfs):\n",
    "    x_w, y_w = windowing(dataset.drop(columns = ['fall']), dataset['fall'], window_size, overlap)\n",
    "    windowed_x.extend(x_w)\n",
    "    windowed_y.extend(y_w)"
   ],
   "metadata": {
    "collapsed": false,
    "ExecuteTime": {
     "end_time": "2024-01-08T07:57:29.152699Z",
     "start_time": "2024-01-08T07:57:20.899235Z"
    }
   },
   "id": "f660c30e9d3a35b3"
  },
  {
   "cell_type": "code",
   "execution_count": 121,
   "outputs": [],
   "source": [
    "x_train = []\n",
    "y_train = []\n",
    "x_test = []\n",
    "y_test = []\n",
    "for i in range(len(windowed_x)):\n",
    "    if np.random.rand(1)[0] < 0.2:\n",
    "        x_test.append(windowed_x[i])\n",
    "        y_test.append(windowed_y[i])\n",
    "    else:\n",
    "        x_train.append(windowed_x[i])\n",
    "\n",
    "        y_train.append(windowed_y[i])"
   ],
   "metadata": {
    "collapsed": false,
    "ExecuteTime": {
     "end_time": "2024-01-08T07:57:30.084472Z",
     "start_time": "2024-01-08T07:57:29.997093Z"
    }
   },
   "id": "717b1f7a263d455e"
  },
  {
   "cell_type": "code",
   "execution_count": 122,
   "outputs": [],
   "source": [
    "scaler = MinMaxScaler()\n",
    "\n",
    "x_train = np.array(x_train)\n",
    "x_train = scaler.fit_transform(x_train.reshape(-1, x_train.shape[-1])).reshape(x_train.shape)\n",
    "\n",
    "x_test = np.array(x_test)\n",
    "x_test = scaler.transform(x_test.reshape(-1, x_test.shape[-1])).reshape(x_test.shape)\n",
    "\n",
    "y_train = np.array(y_train)\n",
    "y_test = np.array(y_test)"
   ],
   "metadata": {
    "collapsed": false,
    "ExecuteTime": {
     "end_time": "2024-01-08T07:57:31.830491Z",
     "start_time": "2024-01-08T07:57:30.738435Z"
    }
   },
   "id": "7f5acd582e7dac00"
  },
  {
   "cell_type": "code",
   "execution_count": 123,
   "outputs": [],
   "source": [
    "y_trainCat = to_categorical(y_train, num_classes=2)"
   ],
   "metadata": {
    "collapsed": false,
    "ExecuteTime": {
     "end_time": "2024-01-08T07:57:32.522Z",
     "start_time": "2024-01-08T07:57:32.510456Z"
    }
   },
   "id": "3bcd6d2288df4fc2"
  },
  {
   "cell_type": "code",
   "execution_count": 124,
   "outputs": [],
   "source": [
    "input_shape = (200, 3)  # Specify your input shape\n",
    "\n",
    "model = models.Sequential()\n",
    "\n",
    "# Layer 1: Fully Connected (w x 3)\n",
    "model.add(Dense(3, activation='relu', input_shape=input_shape))\n",
    "\n",
    "# Layer 2: Batch Normalization (w x 32)\n",
    "model.add(BatchNormalization())\n",
    "\n",
    "# Layer 3: Dropout (w x 32)\n",
    "model.add(Dropout(0.5))  # Adjust dropout rate as needed\n",
    "\n",
    "# Layer 6: LSTM (w x 32)\n",
    "model.add(LSTM(32, activation='relu', return_sequences=False))  # Changed return_sequences to False\n",
    "\n",
    "# Layer 7: Dropout (w x 32)\n",
    "model.add(Dropout(0.5))  # Adjust dropout rate as needed\n",
    "\n",
    "# Layer 8: Fully Connected (1 x 32)\n",
    "model.add(Dense(32, activation='relu'))\n",
    "\n",
    "# Layer 9: Sigmoid (1 x 2)\n",
    "model.add(Dense(2, activation='sigmoid'))  # Modified for 2 units and sigmoid activation\n",
    "\n",
    "# Compile the model\n",
    "model.compile(optimizer='adam', loss='binary_crossentropy', metrics=['accuracy'])\n"
   ],
   "metadata": {
    "collapsed": false,
    "ExecuteTime": {
     "end_time": "2024-01-08T07:57:33.631114Z",
     "start_time": "2024-01-08T07:57:33.531740Z"
    }
   },
   "id": "f0b98b1dd1d0fb42"
  },
  {
   "cell_type": "code",
   "execution_count": 128,
   "outputs": [],
   "source": [
    "input = (200, 3)\n",
    "model = models.Sequential()\n",
    "model.add(layers.Conv1D(6, kernel_size=4, activation='relu', input_shape=input, padding='same'))\n",
    "\n",
    "model.add(layers.MaxPooling1D(pool_size=4, strides=4))\n",
    "\n",
    "model.add(layers.Conv1D(12, kernel_size=4, activation='relu',padding='same'))\n",
    "\n",
    "model.add(layers.MaxPooling1D(pool_size=4, strides=4))\n",
    "model.add(layers.Flatten())\n",
    "\n",
    "model.add(layers.Dense(128, activation='relu'))\n",
    "model.add(layers.Dropout(0.3))\n",
    "model.add(layers.Dense(2, activation='softmax'))\n",
    "model.compile(optimizer='adam', loss='categorical_crossentropy', metrics=['accuracy'])\n"
   ],
   "metadata": {
    "collapsed": false,
    "ExecuteTime": {
     "end_time": "2024-01-08T08:02:53.916624Z",
     "start_time": "2024-01-08T08:02:53.858077Z"
    }
   },
   "id": "26d82ba9a9d17ab1"
  },
  {
   "cell_type": "code",
   "execution_count": 129,
   "outputs": [
    {
     "name": "stdout",
     "output_type": "stream",
     "text": [
      "Epoch 1/40\n",
      "1014/1014 [==============================] - 3s 3ms/step - loss: 0.2406 - accuracy: 0.9365\n",
      "Epoch 2/40\n",
      "1014/1014 [==============================] - 3s 3ms/step - loss: 0.2271 - accuracy: 0.9380\n",
      "Epoch 3/40\n",
      "1014/1014 [==============================] - 3s 3ms/step - loss: 0.2007 - accuracy: 0.9445\n",
      "Epoch 4/40\n",
      "1014/1014 [==============================] - 3s 3ms/step - loss: 0.1820 - accuracy: 0.9498\n",
      "Epoch 5/40\n",
      "1014/1014 [==============================] - 3s 3ms/step - loss: 0.1628 - accuracy: 0.9535\n",
      "Epoch 6/40\n",
      "1014/1014 [==============================] - 3s 3ms/step - loss: 0.1483 - accuracy: 0.9563\n",
      "Epoch 7/40\n",
      "1014/1014 [==============================] - 3s 3ms/step - loss: 0.1438 - accuracy: 0.9581\n",
      "Epoch 8/40\n",
      "1014/1014 [==============================] - 3s 3ms/step - loss: 0.1393 - accuracy: 0.9591\n",
      "Epoch 9/40\n",
      "1014/1014 [==============================] - 3s 3ms/step - loss: 0.1373 - accuracy: 0.9593\n",
      "Epoch 10/40\n",
      "1014/1014 [==============================] - 3s 3ms/step - loss: 0.1335 - accuracy: 0.9606\n",
      "Epoch 11/40\n",
      "1014/1014 [==============================] - 3s 3ms/step - loss: 0.1318 - accuracy: 0.9609\n",
      "Epoch 12/40\n",
      "1014/1014 [==============================] - 3s 3ms/step - loss: 0.1290 - accuracy: 0.9613\n",
      "Epoch 13/40\n",
      "1014/1014 [==============================] - 3s 3ms/step - loss: 0.1267 - accuracy: 0.9622\n",
      "Epoch 14/40\n",
      "1014/1014 [==============================] - 3s 3ms/step - loss: 0.1234 - accuracy: 0.9626\n",
      "Epoch 15/40\n",
      "1014/1014 [==============================] - 3s 3ms/step - loss: 0.1215 - accuracy: 0.9634\n",
      "Epoch 16/40\n",
      "1014/1014 [==============================] - 3s 3ms/step - loss: 0.1196 - accuracy: 0.9638\n",
      "Epoch 17/40\n",
      "1014/1014 [==============================] - 3s 3ms/step - loss: 0.1201 - accuracy: 0.9641\n",
      "Epoch 18/40\n",
      "1014/1014 [==============================] - 3s 3ms/step - loss: 0.1179 - accuracy: 0.9642\n",
      "Epoch 19/40\n",
      "1014/1014 [==============================] - 3s 3ms/step - loss: 0.1163 - accuracy: 0.9648\n",
      "Epoch 20/40\n",
      "1014/1014 [==============================] - 3s 3ms/step - loss: 0.1158 - accuracy: 0.9648\n",
      "Epoch 21/40\n",
      "1014/1014 [==============================] - 3s 3ms/step - loss: 0.1123 - accuracy: 0.9659\n",
      "Epoch 22/40\n",
      "1014/1014 [==============================] - 3s 3ms/step - loss: 0.1137 - accuracy: 0.9653\n",
      "Epoch 23/40\n",
      "1014/1014 [==============================] - 3s 3ms/step - loss: 0.1113 - accuracy: 0.9663\n",
      "Epoch 24/40\n",
      "1014/1014 [==============================] - 3s 3ms/step - loss: 0.1117 - accuracy: 0.9661\n",
      "Epoch 25/40\n",
      "1014/1014 [==============================] - 3s 3ms/step - loss: 0.1095 - accuracy: 0.9665\n",
      "Epoch 26/40\n",
      "1014/1014 [==============================] - 3s 3ms/step - loss: 0.1103 - accuracy: 0.9662\n",
      "Epoch 27/40\n",
      "1014/1014 [==============================] - 3s 3ms/step - loss: 0.1095 - accuracy: 0.9664\n",
      "Epoch 28/40\n",
      "1014/1014 [==============================] - 3s 3ms/step - loss: 0.1078 - accuracy: 0.9665\n",
      "Epoch 29/40\n",
      "1014/1014 [==============================] - 3s 3ms/step - loss: 0.1076 - accuracy: 0.9664\n",
      "Epoch 30/40\n",
      "1014/1014 [==============================] - 3s 3ms/step - loss: 0.1063 - accuracy: 0.9671\n",
      "Epoch 31/40\n",
      "1014/1014 [==============================] - 3s 3ms/step - loss: 0.1073 - accuracy: 0.9667\n",
      "Epoch 32/40\n",
      "1014/1014 [==============================] - 3s 3ms/step - loss: 0.1064 - accuracy: 0.9669\n",
      "Epoch 33/40\n",
      "1014/1014 [==============================] - 3s 3ms/step - loss: 0.1049 - accuracy: 0.9668\n",
      "Epoch 34/40\n",
      "1014/1014 [==============================] - 3s 3ms/step - loss: 0.1040 - accuracy: 0.9673\n",
      "Epoch 35/40\n",
      "1014/1014 [==============================] - 3s 3ms/step - loss: 0.1038 - accuracy: 0.9674\n",
      "Epoch 36/40\n",
      "1014/1014 [==============================] - 3s 3ms/step - loss: 0.1029 - accuracy: 0.9678\n",
      "Epoch 37/40\n",
      "1014/1014 [==============================] - 3s 3ms/step - loss: 0.1018 - accuracy: 0.9676\n",
      "Epoch 38/40\n",
      "1014/1014 [==============================] - 3s 3ms/step - loss: 0.1005 - accuracy: 0.9683\n",
      "Epoch 39/40\n",
      "1014/1014 [==============================] - 3s 3ms/step - loss: 0.1027 - accuracy: 0.9675\n",
      "Epoch 40/40\n",
      "1014/1014 [==============================] - 3s 3ms/step - loss: 0.1000 - accuracy: 0.9679\n"
     ]
    },
    {
     "data": {
      "text/plain": "<keras.src.callbacks.History at 0x2a59f30a0>"
     },
     "execution_count": 129,
     "metadata": {},
     "output_type": "execute_result"
    }
   ],
   "source": [
    "batch = 80\n",
    "epochs = 40\n",
    "iterationsPerEp = x_train.shape[0] // batch\n",
    "\n",
    "model.fit(x_train, y_trainCat, batch_size=batch, epochs=epochs, steps_per_epoch=iterationsPerEp)"
   ],
   "metadata": {
    "collapsed": false,
    "ExecuteTime": {
     "end_time": "2024-01-08T08:04:49.087316Z",
     "start_time": "2024-01-08T08:02:56.982594Z"
    }
   },
   "id": "80025e1d24bddc39"
  },
  {
   "cell_type": "code",
   "execution_count": 130,
   "outputs": [
    {
     "name": "stdout",
     "output_type": "stream",
     "text": [
      "628/628 [==============================] - 1s 1ms/step\n"
     ]
    },
    {
     "data": {
      "text/plain": "array([[18649,   137],\n       [  487,   794]])"
     },
     "execution_count": 130,
     "metadata": {},
     "output_type": "execute_result"
    }
   ],
   "source": [
    "predictions = model.predict(x_test)\n",
    "yPredClasses = np.argmax(predictions, axis=1)\n",
    "confMat = confusion_matrix(y_test, yPredClasses)\n",
    "confMat"
   ],
   "metadata": {
    "collapsed": false,
    "ExecuteTime": {
     "end_time": "2024-01-08T08:10:43.802150Z",
     "start_time": "2024-01-08T08:10:42.415258Z"
    }
   },
   "id": "8c25bd99611887e4"
  },
  {
   "cell_type": "code",
   "execution_count": 131,
   "outputs": [
    {
     "name": "stdout",
     "output_type": "stream",
     "text": [
      "Accuracy 0.9689041710270594\n",
      "F1-Score 0.7179023508137432\n"
     ]
    }
   ],
   "source": [
    "print('Accuracy', accuracy_score(y_test, yPredClasses))\n",
    "print('F1-Score', f1_score(y_test, yPredClasses))"
   ],
   "metadata": {
    "collapsed": false,
    "ExecuteTime": {
     "end_time": "2024-01-08T08:10:46.787491Z",
     "start_time": "2024-01-08T08:10:46.770900Z"
    }
   },
   "id": "5a50383dd10a0dca"
  },
  {
   "cell_type": "code",
   "execution_count": 133,
   "outputs": [
    {
     "data": {
      "text/plain": "<Figure size 640x480 with 2 Axes>",
      "image/png": "[encoded data removed]"
     },
     "metadata": {},
     "output_type": "display_data"
    }
   ],
   "source": [
    "plt.figure()\n",
    "sns.heatmap(confMat.astype('int') , annot=True, fmt='0.2f', cmap='Blues', xticklabels=[0, 1], yticklabels=[0, 1])\n",
    "plt.xlabel('Predicted')\n",
    "plt.ylabel('True')\n",
    "plt.title('Confusion Matrix')\n",
    "plt.show()"
   ],
   "metadata": {
    "collapsed": false,
    "ExecuteTime": {
     "end_time": "2024-01-08T08:11:10.721703Z",
     "start_time": "2024-01-08T08:11:10.399541Z"
    }
   },
   "id": "34a7c004d49728a3"
  },
  {
   "cell_type": "code",
   "execution_count": null,
   "outputs": [],
   "source": [],
   "metadata": {
    "collapsed": false
   },
   "id": "26b41022f5341876"
  }
 ],
 "metadata": {
  "kernelspec": {
   "display_name": "Python 3",
   "language": "python",
   "name": "python3"
  },
  "language_info": {
   "codemirror_mode": {
    "name": "ipython",
    "version": 2
   },
   "file_extension": ".py",
   "mimetype": "text/x-python",
   "name": "python",
   "nbconvert_exporter": "python",
   "pygments_lexer": "ipython2",
   "version": "2.7.6"
  }
 },
 "nbformat": 4,
 "nbformat_minor": 5
}
