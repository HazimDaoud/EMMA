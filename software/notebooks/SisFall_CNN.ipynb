{
 "cells": [
  {
   "cell_type": "code",
   "execution_count": 92,
   "id": "initial_id",
   "metadata": {
    "collapsed": true,
    "ExecuteTime": {
     "end_time": "2024-01-16T13:32:07.731504Z",
     "start_time": "2024-01-16T13:32:07.701625Z"
    }
   },
   "outputs": [],
   "source": [
    "import keras.metrics\n",
    "import pandas as pd\n",
    "import seaborn as sns\n",
    "import numpy as np\n",
    "import matplotlib.pyplot as plt\n",
    "from sklearn.preprocessing import MinMaxScaler\n",
    "from sklearn.model_selection import train_test_split\n",
    "from sklearn.preprocessing import LabelEncoder\n",
    "from keras.utils import to_categorical\n",
    "from tensorflow.keras import models, layers\n",
    "from keras.layers import Conv1D, MaxPooling1D, Flatten, Dense, Dropout, LSTM, Reshape, BatchNormalization, LeakyReLU\n",
    "from sklearn.metrics import confusion_matrix\n",
    "from sklearn.metrics import accuracy_score, f1_score, roc_auc_score\n",
    "import keras\n",
    "import tensorflow as tf\n",
    "import os\n",
    "from sklearn.utils import class_weight"
   ]
  },
  {
   "cell_type": "code",
   "execution_count": null,
   "outputs": [],
   "source": [
    "def windowing(x, y, window_size, overlap):\n",
    "    windows = []\n",
    "    y_labels = []\n",
    "\n",
    "    step_size = window_size - overlap\n",
    "\n",
    "    for i in range(0, len(x) - window_size + 1, step_size):\n",
    "        window = x.iloc[i:(i + window_size), :]\n",
    "        windows.append(window)\n",
    "        if np.sum(y[i:i + window_size] >= 2) >= 50:\n",
    "            y_labels.append(1)\n",
    "        else:\n",
    "            y_labels.append(0)\n",
    "\n",
    "    return np.array(windows), np.array(y_labels)"
   ],
   "metadata": {
    "collapsed": false
   },
   "id": "d75ebaf34d3e96c9"
  },
  {
   "cell_type": "code",
   "execution_count": null,
   "outputs": [],
   "source": [
    "data_path = '../../dataSets/SisFall_labelled'\n",
    "dfs = []\n",
    "\n",
    "for root, dirs, files in os.walk(data_path):\n",
    "    for file in files:\n",
    "        file_path = os.path.join(root, file)\n",
    "        dfs.append(pd.read_csv(file_path, index_col=0))"
   ],
   "metadata": {
    "collapsed": false
   },
   "id": "8f4a033f05dc67ca"
  },
  {
   "cell_type": "code",
   "execution_count": null,
   "outputs": [],
   "source": [
    "window_size = 200\n",
    "overlap = 100"
   ],
   "metadata": {
    "collapsed": false
   },
   "id": "a1d32c842f182460"
  },
  {
   "cell_type": "code",
   "execution_count": null,
   "outputs": [],
   "source": [
    "windowed_x = []\n",
    "windowed_y = []\n",
    "for i, dataset in enumerate(dfs):\n",
    "    x_w, y_w = windowing(dataset.drop(columns = ['fall']), dataset['fall'], window_size, overlap)\n",
    "    windowed_x.extend(x_w)\n",
    "    windowed_y.extend(y_w)"
   ],
   "metadata": {
    "collapsed": false
   },
   "id": "7ba5f97faf3f7db4"
  },
  {
   "cell_type": "code",
   "execution_count": null,
   "outputs": [],
   "source": [
    "x_train = []\n",
    "y_train = []\n",
    "x_test = []\n",
    "y_test = []\n",
    "for i in range(len(windowed_x)):\n",
    "    if np.random.rand(1)[0] < 0.2:\n",
    "        x_test.append(windowed_x[i])\n",
    "        y_test.append(windowed_y[i])\n",
    "    else:\n",
    "        x_train.append(windowed_x[i])\n",
    "\n",
    "        y_train.append(windowed_y[i])"
   ],
   "metadata": {
    "collapsed": false
   },
   "id": "702e470ee3a4ec8d"
  },
  {
   "cell_type": "code",
   "execution_count": null,
   "outputs": [],
   "source": [
    "scaler = MinMaxScaler()\n",
    "\n",
    "x_train = np.array(x_train)\n",
    "x_train = scaler.fit_transform(x_train.reshape(-1, x_train.shape[-1])).reshape(x_train.shape)\n",
    "\n",
    "x_test = np.array(x_test)\n",
    "x_test = scaler.transform(x_test.reshape(-1, x_test.shape[-1])).reshape(x_test.shape)\n",
    "\n",
    "y_train = np.array(y_train)\n",
    "y_test = np.array(y_test)"
   ],
   "metadata": {
    "collapsed": false
   },
   "id": "a72100129651c6de"
  },
  {
   "cell_type": "code",
   "execution_count": null,
   "outputs": [],
   "source": [
    "y_trainCat = to_categorical(y_train, num_classes=2)\n",
    "input_shape = (200, 3)"
   ],
   "metadata": {
    "collapsed": false
   },
   "id": "87babe5cf5e3b1a4"
  },
  {
   "cell_type": "code",
   "execution_count": null,
   "outputs": [],
   "source": [
    "class_weights = class_weight.compute_class_weight('balanced', classes = np.unique(y_train),y = y_train)\n",
    "weight = {i : class_weights[i] for i in range(len(class_weights))}"
   ],
   "metadata": {
    "collapsed": false
   },
   "id": "3a15dd2ac359348a"
  },
  {
   "cell_type": "markdown",
   "source": [
    "trying out different models, but best one is still the first one"
   ],
   "metadata": {
    "collapsed": false
   },
   "id": "50c361275f61f979"
  },
  {
   "cell_type": "code",
   "execution_count": null,
   "outputs": [],
   "source": [
    "model = models.Sequential()\n",
    "model.add(layers.Conv1D(6, kernel_size=4, activation='relu', input_shape=input, padding='same'))\n",
    "\n",
    "model.add(layers.MaxPooling1D(pool_size=4, strides=4))\n",
    "\n",
    "model.add(layers.Conv1D(12, kernel_size=4, activation='relu', padding='same'))\n",
    "\n",
    "model.add(layers.MaxPooling1D(pool_size=4, strides=4))\n",
    "model.add(layers.Flatten())\n",
    "\n",
    "model.add(layers.Dense(128, activation='relu'))\n",
    "model.add(layers.Dropout(0.3))\n",
    "model.add(layers.Dense(2, activation='softmax'))\n",
    "\n",
    "model.compile(optimizer='adam', loss='categorical_crossentropy', metrics=['accuracy'])"
   ],
   "metadata": {
    "collapsed": false
   },
   "id": "fbefb21cc4174e12"
  },
  {
   "cell_type": "code",
   "execution_count": null,
   "outputs": [],
   "source": [
    "model = models.Sequential()\n",
    "model.add(Conv1D(filters=64, kernel_size=4, activation='relu', input_shape=(128,3)))\n",
    "model.add(Conv1D(filters=64, kernel_size=4, activation='relu'))\n",
    "model.add(Dropout(0.5))\n",
    "model.add(MaxPooling1D(pool_size=2))\n",
    "model.add(Flatten())\n",
    "model.add(Dense(100, activation='relu'))\n",
    "model.add(Dense(2, activation='softmax'))\n",
    "model.compile(loss='binary_crossentropy', optimizer='adam', metrics=['accuracy'])"
   ],
   "metadata": {
    "collapsed": false
   },
   "id": "a32723b78230d9fd"
  },
  {
   "cell_type": "code",
   "execution_count": null,
   "outputs": [],
   "source": [
    "model = models.Sequential()\n",
    "\n",
    "# Convolutional layer\n",
    "model.add(Conv1D(filters=64, kernel_size=3, activation='relu', input_shape=(128, 3)))\n",
    "model.add(MaxPooling1D(pool_size=2))\n",
    "\n",
    "# LSTM layer\n",
    "model.add(LSTM(20, activation='relu'))\n",
    "\n",
    "# Dense layer for classification\n",
    "model.add(Dense(2, activation='sigmoid'))\n",
    "\n",
    "# Compile the model\n",
    "model.compile(optimizer='adam', loss='binary_crossentropy', metrics=['accuracy'])\n",
    "\n",
    "#other metric: metrics=[tf.keras.metrics.FalseNegatives(),tf.keras.metrics.FalsePositives(),'accuracy'] "
   ],
   "metadata": {
    "collapsed": false
   },
   "id": "91637ac1819cb4c0"
  },
  {
   "cell_type": "code",
   "execution_count": null,
   "outputs": [],
   "source": [
    "batch = 80\n",
    "epochs = 40\n",
    "iterationsPerEp = x_train.shape[0] // batch\n",
    "model.fit(x_train, y_trainCat, batch_size=batch, epochs=epochs, steps_per_epoch=iterationsPerEp)"
   ],
   "metadata": {
    "collapsed": false
   },
   "id": "3d7809e108db45cf"
  },
  {
   "cell_type": "code",
   "execution_count": null,
   "outputs": [],
   "source": [
    "predictions = model.predict(x_test)\n",
    "yPredClasses = np.argmax(predictions, axis=1)\n",
    "confMat = confusion_matrix(y_test, yPredClasses)\n",
    "confMat"
   ],
   "metadata": {
    "collapsed": false
   },
   "id": "62bb1ada627a3284"
  },
  {
   "cell_type": "code",
   "execution_count": null,
   "outputs": [],
   "source": [
    "print('Accuracy', accuracy_score(y_test, yPredClasses))\n",
    "print('F1-Score', f1_score(y_test, yPredClasses))\n",
    "print('AUC', roc_auc_score(y_test, yPredClasses))"
   ],
   "metadata": {
    "collapsed": false
   },
   "id": "7b8e3548e85f6e1b"
  }
 ],
 "metadata": {
  "kernelspec": {
   "display_name": "Python 3",
   "language": "python",
   "name": "python3"
  },
  "language_info": {
   "codemirror_mode": {
    "name": "ipython",
    "version": 2
   },
   "file_extension": ".py",
   "mimetype": "text/x-python",
   "name": "python",
   "nbconvert_exporter": "python",
   "pygments_lexer": "ipython2",
   "version": "2.7.6"
  }
 },
 "nbformat": 4,
 "nbformat_minor": 5
}
