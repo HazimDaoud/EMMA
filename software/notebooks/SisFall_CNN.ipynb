{
 "cells": [
  {
   "cell_type": "code",
   "execution_count": 1,
   "id": "initial_id",
   "metadata": {
    "collapsed": true,
    "ExecuteTime": {
     "end_time": "2024-01-11T12:08:04.642201Z",
     "start_time": "2024-01-11T12:07:54.917581Z"
    }
   },
   "outputs": [
    {
     "name": "stderr",
     "output_type": "stream",
     "text": [
      "/Users/helenamehler/PycharmProjects/fallDetection/venv/lib/python3.9/site-packages/urllib3/__init__.py:34: NotOpenSSLWarning: urllib3 v2 only supports OpenSSL 1.1.1+, currently the 'ssl' module is compiled with 'LibreSSL 2.8.3'. See: https://github.com/urllib3/urllib3/issues/3020\n",
      "  warnings.warn(\n"
     ]
    }
   ],
   "source": [
    "import keras.metrics\n",
    "import pandas as pd\n",
    "import seaborn as sns\n",
    "import numpy as np\n",
    "import matplotlib.pyplot as plt\n",
    "from sklearn.preprocessing import MinMaxScaler\n",
    "from sklearn.model_selection import train_test_split\n",
    "from sklearn.preprocessing import LabelEncoder\n",
    "from keras.utils import to_categorical\n",
    "from tensorflow.keras import models, layers\n",
    "from keras.layers import Conv1D, MaxPooling1D, Flatten, Dense, Dropout, LSTM, Reshape, BatchNormalization, LeakyReLU\n",
    "from sklearn.metrics import confusion_matrix\n",
    "from sklearn.metrics import accuracy_score, f1_score, roc_auc_score\n",
    "import keras\n",
    "import tensorflow as tf\n",
    "import os\n",
    "from sklearn.utils import class_weight"
   ]
  },
  {
   "cell_type": "code",
   "execution_count": 2,
   "outputs": [],
   "source": [
    "def windowing(x, y, window_size, overlap):\n",
    "    windows = []\n",
    "    y_labels = []\n",
    "\n",
    "    step_size = window_size - overlap\n",
    "\n",
    "    for i in range(0, len(x) - window_size + 1, step_size):\n",
    "        window = x.iloc[i:(i + window_size), :]\n",
    "        windows.append(window)\n",
    "\n",
    "        if np.sum(y[i:i + window_size] == 1) >= 3:\n",
    "            y_labels.append(1)\n",
    "        else:\n",
    "            y_labels.append(0)\n",
    "\n",
    "    return np.array(windows), np.array(y_labels)"
   ],
   "metadata": {
    "collapsed": false,
    "ExecuteTime": {
     "end_time": "2024-01-11T12:08:06.414906Z",
     "start_time": "2024-01-11T12:08:06.401438Z"
    }
   },
   "id": "2211d18395155ad"
  },
  {
   "cell_type": "code",
   "execution_count": 4,
   "outputs": [],
   "source": [
    "data_path = '../../dataSets/SisFall_labelled'\n",
    "dfs = []\n",
    "\n",
    "for root, dirs, files in os.walk(data_path):\n",
    "    for file in files:\n",
    "        file_path = os.path.join(root, file)\n",
    "        dfs.append(pd.read_csv(file_path, index_col=0))"
   ],
   "metadata": {
    "collapsed": false,
    "ExecuteTime": {
     "end_time": "2024-01-11T12:10:33.365454Z",
     "start_time": "2024-01-11T12:10:27.636659Z"
    }
   },
   "id": "e4d6e3ef6669bf14"
  },
  {
   "cell_type": "code",
   "execution_count": 170,
   "outputs": [],
   "source": [
    "window_size = 200\n",
    "overlap = 100"
   ],
   "metadata": {
    "collapsed": false,
    "ExecuteTime": {
     "end_time": "2024-01-10T10:33:02.011518Z",
     "start_time": "2024-01-10T10:33:02.002643Z"
    }
   },
   "id": "be25cac655299dfb"
  },
  {
   "cell_type": "code",
   "execution_count": 171,
   "outputs": [],
   "source": [
    "windowed_x = []\n",
    "windowed_y = []\n",
    "for i, dataset in enumerate(dfs):\n",
    "    x_w, y_w = windowing(dataset.drop(columns = ['fall']), dataset['fall'], window_size, overlap)\n",
    "    windowed_x.extend(x_w)\n",
    "    windowed_y.extend(y_w)"
   ],
   "metadata": {
    "collapsed": false,
    "ExecuteTime": {
     "end_time": "2024-01-10T10:33:22.496624Z",
     "start_time": "2024-01-10T10:33:02.996326Z"
    }
   },
   "id": "f660c30e9d3a35b3"
  },
  {
   "cell_type": "code",
   "execution_count": 248,
   "outputs": [],
   "source": [
    "x_train = []\n",
    "y_train = []\n",
    "x_test = []\n",
    "y_test = []\n",
    "for i in range(len(windowed_x)):\n",
    "    if np.random.rand(1)[0] < 0.2:\n",
    "        x_test.append(windowed_x[i])\n",
    "        y_test.append(windowed_y[i])\n",
    "    else:\n",
    "        x_train.append(windowed_x[i])\n",
    "\n",
    "        y_train.append(windowed_y[i])"
   ],
   "metadata": {
    "collapsed": false,
    "ExecuteTime": {
     "end_time": "2024-01-10T15:00:33.253240Z",
     "start_time": "2024-01-10T15:00:33.061305Z"
    }
   },
   "id": "717b1f7a263d455e"
  },
  {
   "cell_type": "code",
   "execution_count": 249,
   "outputs": [],
   "source": [
    "scaler = MinMaxScaler()\n",
    "\n",
    "x_train = np.array(x_train)\n",
    "x_train = scaler.fit_transform(x_train.reshape(-1, x_train.shape[-1])).reshape(x_train.shape)\n",
    "\n",
    "x_test = np.array(x_test)\n",
    "x_test = scaler.transform(x_test.reshape(-1, x_test.shape[-1])).reshape(x_test.shape)\n",
    "\n",
    "y_train = np.array(y_train)\n",
    "y_test = np.array(y_test)"
   ],
   "metadata": {
    "collapsed": false,
    "ExecuteTime": {
     "end_time": "2024-01-10T15:00:36.967400Z",
     "start_time": "2024-01-10T15:00:33.849847Z"
    }
   },
   "id": "7f5acd582e7dac00"
  },
  {
   "cell_type": "code",
   "execution_count": 250,
   "outputs": [],
   "source": [
    "y_trainCat = to_categorical(y_train, num_classes=2)\n",
    "input_shape = (200, 3)"
   ],
   "metadata": {
    "collapsed": false,
    "ExecuteTime": {
     "end_time": "2024-01-10T15:00:37.545242Z",
     "start_time": "2024-01-10T15:00:37.538656Z"
    }
   },
   "id": "3bcd6d2288df4fc2"
  },
  {
   "cell_type": "code",
   "execution_count": 282,
   "outputs": [],
   "source": [
    "class_weights = class_weight.compute_class_weight('balanced', classes = np.unique(y_train),y = y_train)\n",
    "weight = {i : class_weights[i] for i in range(len(class_weights))}\n",
    "#weight = {0: 1, 1:10}"
   ],
   "metadata": {
    "collapsed": false,
    "ExecuteTime": {
     "end_time": "2024-01-11T07:35:27.439449Z",
     "start_time": "2024-01-11T07:35:27.409661Z"
    }
   },
   "id": "e41bea32d16fd9b3"
  },
  {
   "cell_type": "markdown",
   "source": [
    "trying out different models"
   ],
   "metadata": {
    "collapsed": false
   },
   "id": "9ff327fd1a319c9c"
  },
  {
   "cell_type": "code",
   "execution_count": 179,
   "outputs": [],
   "source": [
    "model = models.Sequential()\n",
    "model.add(Conv1D(filters=64, kernel_size=4, activation='relu', input_shape=(128,3)))\n",
    "model.add(Conv1D(filters=64, kernel_size=4, activation='relu'))\n",
    "model.add(Dropout(0.5))\n",
    "model.add(MaxPooling1D(pool_size=2))\n",
    "model.add(Flatten())\n",
    "model.add(Dense(100, activation='relu'))\n",
    "model.add(Dense(2, activation='softmax'))\n",
    "model.compile(loss='binary_crossentropy', optimizer='adam', metrics=['accuracy'])"
   ],
   "metadata": {
    "collapsed": false,
    "ExecuteTime": {
     "end_time": "2024-01-10T10:38:21.424612Z",
     "start_time": "2024-01-10T10:38:21.339487Z"
    }
   },
   "id": "c5a296e591ba3ba9"
  },
  {
   "cell_type": "code",
   "execution_count": 271,
   "outputs": [],
   "source": [
    "model = models.Sequential()\n",
    "\n",
    "# Convolutional layer\n",
    "model.add(Conv1D(filters=64, kernel_size=3, activation='relu', input_shape=(128, 3)))\n",
    "model.add(MaxPooling1D(pool_size=2))\n",
    "\n",
    "# LSTM layer\n",
    "model.add(LSTM(20, activation='relu'))\n",
    "\n",
    "# Dense layer for classification\n",
    "model.add(Dense(2, activation='sigmoid'))\n",
    "\n",
    "# Compile the model\n",
    "model.compile(optimizer='adam', loss='binary_crossentropy', metrics=['accuracy'])\n",
    "\n",
    "#other metric: metrics=[tf.keras.metrics.FalseNegatives(),tf.keras.metrics.FalsePositives(),'accuracy'] "
   ],
   "metadata": {
    "collapsed": false,
    "ExecuteTime": {
     "end_time": "2024-01-10T15:56:42.779774Z",
     "start_time": "2024-01-10T15:56:42.696012Z"
    }
   },
   "id": "bde4682910865e79"
  },
  {
   "cell_type": "code",
   "execution_count": 284,
   "outputs": [
    {
     "name": "stdout",
     "output_type": "stream",
     "text": [
      "Epoch 1/40\n",
      "2400/2400 [==============================] - 40s 16ms/step - loss: 0.8064 - accuracy: 0.7509\n",
      "Epoch 2/40\n",
      "2400/2400 [==============================] - 38s 16ms/step - loss: 0.7630 - accuracy: 0.7648\n",
      "Epoch 3/40\n",
      "2400/2400 [==============================] - 37s 15ms/step - loss: 0.7526 - accuracy: 0.7542\n",
      "Epoch 4/40\n",
      "2400/2400 [==============================] - 37s 15ms/step - loss: 0.7507 - accuracy: 0.7977\n",
      "Epoch 5/40\n",
      "2400/2400 [==============================] - 38s 16ms/step - loss: 0.7199 - accuracy: 0.8546\n",
      "Epoch 6/40\n",
      "2400/2400 [==============================] - 37s 15ms/step - loss: 0.6955 - accuracy: 0.8827\n",
      "Epoch 7/40\n",
      "2400/2400 [==============================] - 39s 16ms/step - loss: 0.6648 - accuracy: 0.9017\n",
      "Epoch 8/40\n",
      "2400/2400 [==============================] - 37s 16ms/step - loss: 0.6251 - accuracy: 0.9205\n",
      "Epoch 9/40\n",
      "2400/2400 [==============================] - 37s 16ms/step - loss: 0.6068 - accuracy: 0.9214\n",
      "Epoch 10/40\n",
      "2400/2400 [==============================] - 38s 16ms/step - loss: 0.6072 - accuracy: 0.9245\n",
      "Epoch 11/40\n",
      "2400/2400 [==============================] - 39s 16ms/step - loss: 0.5966 - accuracy: 0.9233\n",
      "Epoch 12/40\n",
      "2400/2400 [==============================] - 38s 16ms/step - loss: 0.5970 - accuracy: 0.9312\n",
      "Epoch 13/40\n",
      "2400/2400 [==============================] - 37s 15ms/step - loss: 0.5855 - accuracy: 0.9344\n",
      "Epoch 14/40\n",
      "2400/2400 [==============================] - 37s 16ms/step - loss: 0.5705 - accuracy: 0.9295\n",
      "Epoch 15/40\n",
      "2400/2400 [==============================] - 37s 15ms/step - loss: 0.5684 - accuracy: 0.9245\n",
      "Epoch 16/40\n",
      "2400/2400 [==============================] - 39s 16ms/step - loss: 0.6259 - accuracy: 0.9377\n",
      "Epoch 17/40\n",
      "2400/2400 [==============================] - 37s 15ms/step - loss: 0.5799 - accuracy: 0.9355\n",
      "Epoch 18/40\n",
      "2400/2400 [==============================] - 37s 15ms/step - loss: 0.5985 - accuracy: 0.9366\n",
      "Epoch 19/40\n",
      "2400/2400 [==============================] - 41s 17ms/step - loss: 0.6047 - accuracy: 0.9265\n",
      "Epoch 20/40\n",
      "2400/2400 [==============================] - 70s 29ms/step - loss: 0.5709 - accuracy: 0.9194\n",
      "Epoch 21/40\n",
      "2400/2400 [==============================] - 131s 55ms/step - loss: 0.5765 - accuracy: 0.9218\n",
      "Epoch 22/40\n",
      "2400/2400 [==============================] - 117s 49ms/step - loss: 0.5595 - accuracy: 0.9216\n",
      "Epoch 23/40\n",
      "2400/2400 [==============================] - 100s 42ms/step - loss: 0.5527 - accuracy: 0.9187\n",
      "Epoch 24/40\n",
      "2400/2400 [==============================] - 92s 38ms/step - loss: 0.5414 - accuracy: 0.9259\n",
      "Epoch 25/40\n",
      "2400/2400 [==============================] - 89s 37ms/step - loss: 0.5588 - accuracy: 0.9283\n",
      "Epoch 26/40\n",
      "2400/2400 [==============================] - 95s 40ms/step - loss: 0.5847 - accuracy: 0.8941\n",
      "Epoch 27/40\n",
      "2400/2400 [==============================] - 111s 46ms/step - loss: 0.5356 - accuracy: 0.9164\n",
      "Epoch 28/40\n",
      "2400/2400 [==============================] - 138s 57ms/step - loss: 0.5494 - accuracy: 0.9146\n",
      "Epoch 29/40\n",
      "2400/2400 [==============================] - 150s 62ms/step - loss: 0.5370 - accuracy: 0.9191\n",
      "Epoch 30/40\n",
      "2400/2400 [==============================] - 126s 53ms/step - loss: 0.5789 - accuracy: 0.9229\n",
      "Epoch 31/40\n",
      "2400/2400 [==============================] - 124s 51ms/step - loss: 0.5603 - accuracy: 0.9258\n",
      "Epoch 32/40\n",
      "2400/2400 [==============================] - 124s 52ms/step - loss: 0.6251 - accuracy: 0.9144\n",
      "Epoch 33/40\n",
      "2400/2400 [==============================] - 120s 50ms/step - loss: 0.7003 - accuracy: 0.9044\n",
      "Epoch 34/40\n",
      "2400/2400 [==============================] - 116s 48ms/step - loss: 0.6852 - accuracy: 0.9089\n",
      "Epoch 35/40\n",
      "2400/2400 [==============================] - 119s 49ms/step - loss: 0.6429 - accuracy: 0.9194\n",
      "Epoch 36/40\n",
      "2400/2400 [==============================] - 115s 48ms/step - loss: 0.6127 - accuracy: 0.9208\n",
      "Epoch 37/40\n",
      "2400/2400 [==============================] - 117s 49ms/step - loss: 0.5996 - accuracy: 0.9291\n",
      "Epoch 38/40\n",
      "2400/2400 [==============================] - 116s 48ms/step - loss: 0.5906 - accuracy: 0.9273\n",
      "Epoch 39/40\n",
      "2400/2400 [==============================] - 101s 42ms/step - loss: 0.5618 - accuracy: 0.9251\n",
      "Epoch 40/40\n",
      "2400/2400 [==============================] - 106s 44ms/step - loss: 0.5635 - accuracy: 0.9158\n"
     ]
    },
    {
     "data": {
      "text/plain": "<keras.src.callbacks.History at 0x333b6f940>"
     },
     "execution_count": 284,
     "metadata": {},
     "output_type": "execute_result"
    }
   ],
   "source": [
    "batch = 80\n",
    "epochs = 40\n",
    "iterationsPerEp = x_train.shape[0] // batch\n",
    "model.fit(x_train, y_trainCat, batch_size=batch, epochs=epochs, steps_per_epoch=iterationsPerEp, class_weight = weight)"
   ],
   "metadata": {
    "collapsed": false,
    "ExecuteTime": {
     "end_time": "2024-01-11T08:27:12.633570Z",
     "start_time": "2024-01-11T07:35:34.079905Z"
    }
   },
   "id": "80025e1d24bddc39"
  },
  {
   "cell_type": "code",
   "execution_count": 285,
   "outputs": [
    {
     "name": "stdout",
     "output_type": "stream",
     "text": [
      "1493/1493 [==============================] - 19s 12ms/step\n"
     ]
    },
    {
     "data": {
      "text/plain": "array([[43401,  2016],\n       [ 1074,  1273]])"
     },
     "execution_count": 285,
     "metadata": {},
     "output_type": "execute_result"
    }
   ],
   "source": [
    "predictions = model.predict(x_test)\n",
    "yPredClasses = np.argmax(predictions, axis=1)\n",
    "confMat = confusion_matrix(y_test, yPredClasses)\n",
    "confMat"
   ],
   "metadata": {
    "collapsed": false,
    "ExecuteTime": {
     "end_time": "2024-01-11T08:27:35.844710Z",
     "start_time": "2024-01-11T08:27:14.852229Z"
    }
   },
   "id": "8c25bd99611887e4"
  },
  {
   "cell_type": "code",
   "execution_count": 286,
   "outputs": [
    {
     "name": "stdout",
     "output_type": "stream",
     "text": [
      "Accuracy 0.935306925718114\n",
      "F1-Score 0.4517388218594748\n",
      "AUC 0.749002940595954\n"
     ]
    }
   ],
   "source": [
    "print('Accuracy', accuracy_score(y_test, yPredClasses))\n",
    "print('F1-Score', f1_score(y_test, yPredClasses))\n",
    "print('AUC', roc_auc_score(y_test, yPredClasses))"
   ],
   "metadata": {
    "collapsed": false,
    "ExecuteTime": {
     "end_time": "2024-01-11T08:27:38.145225Z",
     "start_time": "2024-01-11T08:27:38.012389Z"
    }
   },
   "id": "5a50383dd10a0dca"
  }
 ],
 "metadata": {
  "kernelspec": {
   "display_name": "Python 3",
   "language": "python",
   "name": "python3"
  },
  "language_info": {
   "codemirror_mode": {
    "name": "ipython",
    "version": 2
   },
   "file_extension": ".py",
   "mimetype": "text/x-python",
   "name": "python",
   "nbconvert_exporter": "python",
   "pygments_lexer": "ipython2",
   "version": "2.7.6"
  }
 },
 "nbformat": 4,
 "nbformat_minor": 5
}
