{
 "cells": [
  {
   "cell_type": "code",
   "execution_count": 36,
   "id": "initial_id",
   "metadata": {
    "collapsed": true,
    "ExecuteTime": {
     "end_time": "2023-12-19T13:06:18.207685Z",
     "start_time": "2023-12-19T13:06:18.201808Z"
    }
   },
   "outputs": [],
   "source": [
    "import os\n",
    "import pandas as pd\n",
    "import numpy as np\n",
    "import tensorflow as tf\n",
    "from sklearn.preprocessing import MinMaxScaler\n",
    "from sklearn.metrics import accuracy_score, f1_score\n",
    "from sklearn.metrics import confusion_matrix\n",
    "from tensorflow.keras import models, layers\n",
    "from keras.utils import to_categorical\n",
    "import matplotlib.pyplot as plt\n",
    "import seaborn as sns"
   ]
  },
  {
   "cell_type": "code",
   "execution_count": 20,
   "outputs": [],
   "source": [
    "def windowing(x, y, window_size, overlap):\n",
    "    num_windows = ((x.shape[1] - window_size) // overlap) + 1\n",
    "    y_window = []\n",
    "    windows = np.zeros((num_windows*x.shape[0], window_size, x.shape[2]))\n",
    "    for dataset in range(x.shape[0]):\n",
    "        for i in range(num_windows):\n",
    "            y_window.append(y[dataset])\n",
    "            start = i * overlap\n",
    "            end = start + window_size\n",
    "            windows[i, :, :] = x[dataset, start:end, :]\n",
    "    return windows, np.array(y_window)"
   ],
   "metadata": {
    "collapsed": false,
    "ExecuteTime": {
     "end_time": "2023-12-19T12:56:19.159773Z",
     "start_time": "2023-12-19T12:56:19.141809Z"
    }
   },
   "id": "4ec3a3b860c2df01"
  },
  {
   "cell_type": "code",
   "execution_count": 3,
   "outputs": [],
   "source": [
    "absolutepath = '/Users/helenamehler/PycharmProjects/fallDetection/dataSets/FallAllD_Labelled'"
   ],
   "metadata": {
    "collapsed": false,
    "ExecuteTime": {
     "end_time": "2023-12-19T12:30:51.250299Z",
     "start_time": "2023-12-19T12:30:51.242244Z"
    }
   },
   "id": "537d1b2c9161a393"
  },
  {
   "cell_type": "code",
   "execution_count": 4,
   "outputs": [],
   "source": [
    "x_train = []\n",
    "y_train = []\n",
    "x_test = []\n",
    "y_test = []\n",
    "\n",
    "for root, dirs, files in os.walk(absolutepath):\n",
    "    for file in files:\n",
    "        if \"acc\" in file:\n",
    "            filepath = os.path.join(root, file)\n",
    "            df = pd.read_csv(filepath)\n",
    "            features = df[['accelerometer_x', 'accelerometer_y', 'accelerometer_z']]\n",
    "            label = df['fall'][0]\n",
    "\n",
    "            if np.random.rand(1)[0] < 0.2:\n",
    "                x_test.append(features.values)\n",
    "                y_test.append(label)\n",
    "            else:\n",
    "                x_train.append(features.values)\n",
    "                y_train.append(label)\n"
   ],
   "metadata": {
    "collapsed": false,
    "ExecuteTime": {
     "end_time": "2023-12-19T12:30:56.995062Z",
     "start_time": "2023-12-19T12:30:52.883100Z"
    }
   },
   "id": "371ce00c397c5008"
  },
  {
   "cell_type": "code",
   "execution_count": 5,
   "outputs": [],
   "source": [
    "scaler = MinMaxScaler()\n",
    "\n",
    "x_train = np.array(x_train)\n",
    "x_train = scaler.fit_transform(x_train.reshape(-1, x_train.shape[-1])).reshape(x_train.shape)\n",
    "\n",
    "x_test = np.array(x_test)\n",
    "x_test = scaler.transform(x_test.reshape(-1, x_test.shape[-1])).reshape(x_test.shape)\n",
    "\n",
    "y_train = np.array(y_train)\n",
    "y_test = np.array(y_test)"
   ],
   "metadata": {
    "collapsed": false,
    "ExecuteTime": {
     "end_time": "2023-12-19T12:31:00.464435Z",
     "start_time": "2023-12-19T12:30:59.886649Z"
    }
   },
   "id": "b80f03d9df6eb7b1"
  },
  {
   "cell_type": "code",
   "execution_count": 21,
   "outputs": [],
   "source": [
    "window_size = 200\n",
    "overlap = 50\n",
    "\n",
    "x_train_w, y_train_w = windowing(x_train, y_train, window_size, overlap)\n",
    "x_test_w, y_test_w = windowing(x_test, y_test, window_size, overlap)"
   ],
   "metadata": {
    "collapsed": false,
    "ExecuteTime": {
     "end_time": "2023-12-19T12:56:24.100562Z",
     "start_time": "2023-12-19T12:56:23.946999Z"
    }
   },
   "id": "e25146d3ec99179a"
  },
  {
   "cell_type": "code",
   "execution_count": 30,
   "outputs": [],
   "source": [
    "y_trainCat = to_categorical(y_train, num_classes=2)"
   ],
   "metadata": {
    "collapsed": false,
    "ExecuteTime": {
     "end_time": "2023-12-19T13:04:46.077444Z",
     "start_time": "2023-12-19T13:04:46.074020Z"
    }
   },
   "id": "6a5028b3402a0844"
  },
  {
   "cell_type": "code",
   "execution_count": 31,
   "outputs": [],
   "source": [
    "input = (x_train.shape[1], x_train.shape[2])\n",
    "model = models.Sequential()\n",
    "model.add(layers.Conv1D(6, kernel_size=4, activation='relu', input_shape=input, padding='same'))\n",
    "\n",
    "model.add(layers.MaxPooling1D(pool_size=4, strides=4))\n",
    "\n",
    "model.add(layers.Conv1D(12, kernel_size=4, activation='relu',padding='same'))\n",
    "\n",
    "model.add(layers.MaxPooling1D(pool_size=4, strides=4))\n",
    "model.add(layers.Flatten())\n",
    "\n",
    "model.add(layers.Dense(128, activation='relu'))\n",
    "model.add(layers.Dropout(0.3))\n",
    "model.add(layers.Dense(2, activation='softmax'))\n",
    "model.compile(optimizer='adam', loss='categorical_crossentropy', metrics=['accuracy'])"
   ],
   "metadata": {
    "collapsed": false,
    "ExecuteTime": {
     "end_time": "2023-12-19T13:04:46.553548Z",
     "start_time": "2023-12-19T13:04:46.523482Z"
    }
   },
   "id": "ceed904ba6f5b36e"
  },
  {
   "cell_type": "code",
   "execution_count": 32,
   "outputs": [
    {
     "name": "stdout",
     "output_type": "stream",
     "text": [
      "Epoch 1/40\n",
      "16/16 [==============================] - 1s 23ms/step - loss: 0.7755 - accuracy: 0.6289\n",
      "Epoch 2/40\n",
      "16/16 [==============================] - 0s 21ms/step - loss: 0.6060 - accuracy: 0.7106\n",
      "Epoch 3/40\n",
      "16/16 [==============================] - 0s 19ms/step - loss: 0.5952 - accuracy: 0.7139\n",
      "Epoch 4/40\n",
      "16/16 [==============================] - 0s 19ms/step - loss: 0.5855 - accuracy: 0.7139\n",
      "Epoch 5/40\n",
      "16/16 [==============================] - 0s 19ms/step - loss: 0.5907 - accuracy: 0.6925\n",
      "Epoch 6/40\n",
      "16/16 [==============================] - 0s 23ms/step - loss: 0.5225 - accuracy: 0.7494\n",
      "Epoch 7/40\n",
      "16/16 [==============================] - 0s 20ms/step - loss: 0.5243 - accuracy: 0.7312\n",
      "Epoch 8/40\n",
      "16/16 [==============================] - 0s 21ms/step - loss: 0.4806 - accuracy: 0.7535\n",
      "Epoch 9/40\n",
      "16/16 [==============================] - 0s 20ms/step - loss: 0.4340 - accuracy: 0.7955\n",
      "Epoch 10/40\n",
      "16/16 [==============================] - 0s 19ms/step - loss: 0.4121 - accuracy: 0.8104\n",
      "Epoch 11/40\n",
      "16/16 [==============================] - 0s 19ms/step - loss: 0.3740 - accuracy: 0.8458\n",
      "Epoch 12/40\n",
      "16/16 [==============================] - 0s 19ms/step - loss: 0.3636 - accuracy: 0.8302\n",
      "Epoch 13/40\n",
      "16/16 [==============================] - 0s 20ms/step - loss: 0.3352 - accuracy: 0.8417\n",
      "Epoch 14/40\n",
      "16/16 [==============================] - 0s 20ms/step - loss: 0.3393 - accuracy: 0.8491\n",
      "Epoch 15/40\n",
      "16/16 [==============================] - 0s 20ms/step - loss: 0.3187 - accuracy: 0.8599\n",
      "Epoch 16/40\n",
      "16/16 [==============================] - 0s 19ms/step - loss: 0.3015 - accuracy: 0.8640\n",
      "Epoch 17/40\n",
      "16/16 [==============================] - 0s 20ms/step - loss: 0.2816 - accuracy: 0.8871\n",
      "Epoch 18/40\n",
      "16/16 [==============================] - 0s 21ms/step - loss: 0.2670 - accuracy: 0.8883\n",
      "Epoch 19/40\n",
      "16/16 [==============================] - 0s 20ms/step - loss: 0.3050 - accuracy: 0.8821\n",
      "Epoch 20/40\n",
      "16/16 [==============================] - 0s 20ms/step - loss: 0.2819 - accuracy: 0.8689\n",
      "Epoch 21/40\n",
      "16/16 [==============================] - 0s 23ms/step - loss: 0.2464 - accuracy: 0.9118\n",
      "Epoch 22/40\n",
      "16/16 [==============================] - 0s 20ms/step - loss: 0.2446 - accuracy: 0.9027\n",
      "Epoch 23/40\n",
      "16/16 [==============================] - 0s 19ms/step - loss: 0.2337 - accuracy: 0.9126\n",
      "Epoch 24/40\n",
      "16/16 [==============================] - 0s 20ms/step - loss: 0.2352 - accuracy: 0.9110\n",
      "Epoch 25/40\n",
      "16/16 [==============================] - 0s 19ms/step - loss: 0.2305 - accuracy: 0.9027\n",
      "Epoch 26/40\n",
      "16/16 [==============================] - 0s 19ms/step - loss: 0.2131 - accuracy: 0.9225\n",
      "Epoch 27/40\n",
      "16/16 [==============================] - 0s 19ms/step - loss: 0.2315 - accuracy: 0.9019\n",
      "Epoch 28/40\n",
      "16/16 [==============================] - 0s 19ms/step - loss: 0.2137 - accuracy: 0.9184\n",
      "Epoch 29/40\n",
      "16/16 [==============================] - 0s 20ms/step - loss: 0.2452 - accuracy: 0.9044\n",
      "Epoch 30/40\n",
      "16/16 [==============================] - 0s 20ms/step - loss: 0.2135 - accuracy: 0.9200\n",
      "Epoch 31/40\n",
      "16/16 [==============================] - 0s 20ms/step - loss: 0.2096 - accuracy: 0.9101\n",
      "Epoch 32/40\n",
      "16/16 [==============================] - 0s 19ms/step - loss: 0.2120 - accuracy: 0.9242\n",
      "Epoch 33/40\n",
      "16/16 [==============================] - 0s 19ms/step - loss: 0.1834 - accuracy: 0.9390\n",
      "Epoch 34/40\n",
      "16/16 [==============================] - 0s 19ms/step - loss: 0.1910 - accuracy: 0.9365\n",
      "Epoch 35/40\n",
      "16/16 [==============================] - 0s 21ms/step - loss: 0.1809 - accuracy: 0.9359\n",
      "Epoch 36/40\n",
      "16/16 [==============================] - 0s 21ms/step - loss: 0.1892 - accuracy: 0.9423\n",
      "Epoch 37/40\n",
      "16/16 [==============================] - 0s 22ms/step - loss: 0.1737 - accuracy: 0.9406\n",
      "Epoch 38/40\n",
      "16/16 [==============================] - 0s 20ms/step - loss: 0.1747 - accuracy: 0.9373\n",
      "Epoch 39/40\n",
      "16/16 [==============================] - 0s 23ms/step - loss: 0.1665 - accuracy: 0.9489\n",
      "Epoch 40/40\n",
      "16/16 [==============================] - 0s 25ms/step - loss: 0.1827 - accuracy: 0.9357\n"
     ]
    },
    {
     "data": {
      "text/plain": "<keras.callbacks.History at 0x292cb9d10>"
     },
     "execution_count": 32,
     "metadata": {},
     "output_type": "execute_result"
    }
   ],
   "source": [
    "batch = 80\n",
    "epochs = 40\n",
    "iterationsPerEp = x_train.shape[0] // batch\n",
    "model.fit(x_train, y_trainCat, batch_size=batch, epochs=epochs, steps_per_epoch=iterationsPerEp)"
   ],
   "metadata": {
    "collapsed": false,
    "ExecuteTime": {
     "end_time": "2023-12-19T13:05:00.373362Z",
     "start_time": "2023-12-19T13:04:47.023914Z"
    }
   },
   "id": "879f74edf7553f64"
  },
  {
   "cell_type": "code",
   "execution_count": 33,
   "outputs": [
    {
     "name": "stdout",
     "output_type": "stream",
     "text": [
      "11/11 [==============================] - 0s 5ms/step\n"
     ]
    },
    {
     "data": {
      "text/plain": "array([[244,   9],\n       [ 11,  71]])"
     },
     "execution_count": 33,
     "metadata": {},
     "output_type": "execute_result"
    }
   ],
   "source": [
    "predictions = model.predict(x_test)\n",
    "yPredClasses = np.argmax(predictions, axis=1)\n",
    "confMat = confusion_matrix(y_test, yPredClasses)\n",
    "confMat"
   ],
   "metadata": {
    "collapsed": false,
    "ExecuteTime": {
     "end_time": "2023-12-19T13:05:15.326264Z",
     "start_time": "2023-12-19T13:05:15.157398Z"
    }
   },
   "id": "f97015b7da5b603d"
  },
  {
   "cell_type": "code",
   "execution_count": 34,
   "outputs": [
    {
     "name": "stdout",
     "output_type": "stream",
     "text": [
      "Accuracy 0.9402985074626866\n",
      "F1-Score 0.8765432098765432\n"
     ]
    }
   ],
   "source": [
    "print('Accuracy', accuracy_score(y_test, yPredClasses))\n",
    "print('F1-Score', f1_score(y_test, yPredClasses))"
   ],
   "metadata": {
    "collapsed": false,
    "ExecuteTime": {
     "end_time": "2023-12-19T13:05:19.151504Z",
     "start_time": "2023-12-19T13:05:19.128269Z"
    }
   },
   "id": "477be1497867fcf3"
  },
  {
   "cell_type": "code",
   "execution_count": 41,
   "outputs": [
    {
     "data": {
      "text/plain": "<Figure size 640x480 with 2 Axes>",
      "image/png": "[encoded data removed]"
     },
     "metadata": {},
     "output_type": "display_data"
    }
   ],
   "source": [
    "plt.figure()\n",
    "sns.heatmap(confMat.astype('int') , annot=True, fmt='0.2f', cmap='Blues', xticklabels=[0, 1], yticklabels=[0, 1])\n",
    "plt.xlabel('Predicted')\n",
    "plt.ylabel('True')\n",
    "plt.title('Confusion Matrix')\n",
    "plt.show()"
   ],
   "metadata": {
    "collapsed": false,
    "ExecuteTime": {
     "end_time": "2023-12-19T13:12:50.176459Z",
     "start_time": "2023-12-19T13:12:50.089419Z"
    }
   },
   "id": "f023031a9acdbefa"
  },
  {
   "cell_type": "code",
   "execution_count": null,
   "outputs": [],
   "source": [],
   "metadata": {
    "collapsed": false
   },
   "id": "56f5906ac96e7dd"
  }
 ],
 "metadata": {
  "kernelspec": {
   "display_name": "Python 3",
   "language": "python",
   "name": "python3"
  },
  "language_info": {
   "codemirror_mode": {
    "name": "ipython",
    "version": 2
   },
   "file_extension": ".py",
   "mimetype": "text/x-python",
   "name": "python",
   "nbconvert_exporter": "python",
   "pygments_lexer": "ipython2",
   "version": "2.7.6"
  }
 },
 "nbformat": 4,
 "nbformat_minor": 5
}
