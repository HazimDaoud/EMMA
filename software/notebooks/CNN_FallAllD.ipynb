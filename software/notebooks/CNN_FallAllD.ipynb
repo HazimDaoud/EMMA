{
 "cells": [
  {
   "cell_type": "code",
   "execution_count": 40,
   "id": "initial_id",
   "metadata": {
    "collapsed": true,
    "ExecuteTime": {
     "end_time": "2023-12-18T12:25:18.505835Z",
     "start_time": "2023-12-18T12:25:18.494464Z"
    }
   },
   "outputs": [],
   "source": [
    "import os\n",
    "import pandas as pd\n",
    "import numpy as np\n",
    "import tensorflow as tf\n",
    "from sklearn.preprocessing import MinMaxScaler\n",
    "from sklearn.metrics import accuracy_score, f1_score\n",
    "from sklearn.metrics import confusion_matrix\n",
    "from tensorflow.keras import models, layers\n",
    "from keras.utils import to_categorical\n"
   ]
  },
  {
   "cell_type": "code",
   "execution_count": 41,
   "outputs": [],
   "source": [
    "absolutepath = '/Users/helenamehler/PycharmProjects/fallDetection/dataSets/FallAllD_Labelled'"
   ],
   "metadata": {
    "collapsed": false,
    "ExecuteTime": {
     "end_time": "2023-12-18T12:25:18.532715Z",
     "start_time": "2023-12-18T12:25:18.507645Z"
    }
   },
   "id": "537d1b2c9161a393"
  },
  {
   "cell_type": "code",
   "execution_count": 42,
   "outputs": [],
   "source": [
    "x_train = []\n",
    "y_train = []\n",
    "x_test = []\n",
    "y_test = []\n",
    "\n",
    "for root, dirs, files in os.walk(absolutepath):\n",
    "    for file in files:\n",
    "        if \"acc\" in file:\n",
    "            filepath = os.path.join(root, file)\n",
    "            df = pd.read_csv(filepath)\n",
    "            features = df[['accelerometer_x', 'accelerometer_y', 'accelerometer_z']]\n",
    "            label = df['fall'][0]\n",
    "\n",
    "            if np.random.rand(1)[0] < 0.2:\n",
    "                x_test.append(features.values)\n",
    "                y_test.append(label)\n",
    "            else:\n",
    "                x_train.append(features.values)\n",
    "                y_train.append(label)\n"
   ],
   "metadata": {
    "collapsed": false,
    "ExecuteTime": {
     "end_time": "2023-12-18T12:25:22.755077Z",
     "start_time": "2023-12-18T12:25:18.533429Z"
    }
   },
   "id": "371ce00c397c5008"
  },
  {
   "cell_type": "code",
   "execution_count": 43,
   "outputs": [],
   "source": [
    "scaler = MinMaxScaler()\n",
    "\n",
    "x_train = np.array(x_train)\n",
    "test = x_train.reshape(-1, x_train.shape[-1])\n",
    "x_train = scaler.fit_transform(x_train.reshape(-1, x_train.shape[-1])).reshape(x_train.shape)\n",
    "\n",
    "x_test = np.array(x_test)\n",
    "x_test = scaler.transform(x_test.reshape(-1, x_test.shape[-1])).reshape(x_test.shape)\n",
    "\n",
    "y_train = np.array(y_train)\n",
    "y_test = np.array(y_test)"
   ],
   "metadata": {
    "collapsed": false,
    "ExecuteTime": {
     "end_time": "2023-12-18T12:25:23.166487Z",
     "start_time": "2023-12-18T12:25:22.756864Z"
    }
   },
   "id": "b80f03d9df6eb7b1"
  },
  {
   "cell_type": "code",
   "execution_count": 44,
   "outputs": [],
   "source": [
    "y_trainCat = to_categorical(y_train, num_classes=2)"
   ],
   "metadata": {
    "collapsed": false,
    "ExecuteTime": {
     "end_time": "2023-12-18T12:25:23.171084Z",
     "start_time": "2023-12-18T12:25:23.168007Z"
    }
   },
   "id": "6a5028b3402a0844"
  },
  {
   "cell_type": "code",
   "execution_count": 45,
   "outputs": [],
   "source": [
    "input = (x_train.shape[1], x_train.shape[2])\n",
    "model = models.Sequential()\n",
    "model.add(layers.Conv1D(6, kernel_size=4, activation='relu', input_shape=input, padding='same'))\n",
    "\n",
    "model.add(layers.MaxPooling1D(pool_size=4, strides=4))\n",
    "\n",
    "model.add(layers.Conv1D(12, kernel_size=4, activation='relu',padding='same'))\n",
    "\n",
    "model.add(layers.MaxPooling1D(pool_size=4, strides=4))\n",
    "model.add(layers.Flatten())\n",
    "\n",
    "model.add(layers.Dense(128, activation='relu'))\n",
    "model.add(layers.Dropout(0.3))\n",
    "model.add(layers.Dense(2, activation='softmax'))\n",
    "model.compile(optimizer='adam', loss='categorical_crossentropy', metrics=['accuracy'])"
   ],
   "metadata": {
    "collapsed": false,
    "ExecuteTime": {
     "end_time": "2023-12-18T12:25:23.286464Z",
     "start_time": "2023-12-18T12:25:23.197Z"
    }
   },
   "id": "ceed904ba6f5b36e"
  },
  {
   "cell_type": "code",
   "execution_count": 46,
   "outputs": [
    {
     "name": "stdout",
     "output_type": "stream",
     "text": [
      "Epoch 1/20\n",
      "15/15 [==============================] - 1s 20ms/step - loss: 0.6301 - accuracy: 0.6933\n",
      "Epoch 2/20\n",
      "15/15 [==============================] - 0s 21ms/step - loss: 0.5704 - accuracy: 0.7285\n",
      "Epoch 3/20\n",
      "15/15 [==============================] - 0s 20ms/step - loss: 0.5311 - accuracy: 0.7201\n",
      "Epoch 4/20\n",
      "15/15 [==============================] - 0s 20ms/step - loss: 0.4715 - accuracy: 0.7619\n",
      "Epoch 5/20\n",
      "15/15 [==============================] - 0s 21ms/step - loss: 0.4663 - accuracy: 0.7845\n",
      "Epoch 6/20\n",
      "15/15 [==============================] - 0s 19ms/step - loss: 0.4229 - accuracy: 0.7970\n",
      "Epoch 7/20\n",
      "15/15 [==============================] - 0s 20ms/step - loss: 0.3960 - accuracy: 0.8104\n",
      "Epoch 8/20\n",
      "15/15 [==============================] - 0s 20ms/step - loss: 0.3738 - accuracy: 0.8421\n",
      "Epoch 9/20\n",
      "15/15 [==============================] - 0s 19ms/step - loss: 0.3645 - accuracy: 0.8421\n",
      "Epoch 10/20\n",
      "15/15 [==============================] - 0s 20ms/step - loss: 0.3457 - accuracy: 0.8438\n",
      "Epoch 11/20\n",
      "15/15 [==============================] - 0s 20ms/step - loss: 0.3219 - accuracy: 0.8580\n",
      "Epoch 12/20\n",
      "15/15 [==============================] - 0s 23ms/step - loss: 0.2943 - accuracy: 0.8830\n",
      "Epoch 13/20\n",
      "15/15 [==============================] - 0s 21ms/step - loss: 0.2643 - accuracy: 0.8839\n",
      "Epoch 14/20\n",
      "15/15 [==============================] - 0s 19ms/step - loss: 0.2527 - accuracy: 0.9056\n",
      "Epoch 15/20\n",
      "15/15 [==============================] - 0s 20ms/step - loss: 0.2152 - accuracy: 0.9265\n",
      "Epoch 16/20\n",
      "15/15 [==============================] - 0s 20ms/step - loss: 0.2144 - accuracy: 0.9140\n",
      "Epoch 17/20\n",
      "15/15 [==============================] - 0s 20ms/step - loss: 0.2027 - accuracy: 0.9308\n",
      "Epoch 18/20\n",
      "15/15 [==============================] - 0s 20ms/step - loss: 0.2007 - accuracy: 0.9290\n",
      "Epoch 19/20\n",
      "15/15 [==============================] - 0s 19ms/step - loss: 0.1853 - accuracy: 0.9315\n",
      "Epoch 20/20\n",
      "15/15 [==============================] - 0s 19ms/step - loss: 0.1619 - accuracy: 0.9415\n"
     ]
    },
    {
     "data": {
      "text/plain": "<keras.callbacks.History at 0x176037f50>"
     },
     "execution_count": 46,
     "metadata": {},
     "output_type": "execute_result"
    }
   ],
   "source": [
    "batch = 80\n",
    "epochs = 20\n",
    "iterationsPerEp = x_train.shape[0] // batch\n",
    "model.fit(x_train, y_trainCat, batch_size=batch, epochs=epochs, steps_per_epoch=iterationsPerEp)"
   ],
   "metadata": {
    "collapsed": false,
    "ExecuteTime": {
     "end_time": "2023-12-18T12:25:29.679712Z",
     "start_time": "2023-12-18T12:25:23.288743Z"
    }
   },
   "id": "879f74edf7553f64"
  },
  {
   "cell_type": "code",
   "execution_count": 47,
   "outputs": [
    {
     "name": "stdout",
     "output_type": "stream",
     "text": [
      "11/11 [==============================] - 0s 4ms/step\n"
     ]
    },
    {
     "data": {
      "text/plain": "array([[243,   8],\n       [ 28,  72]])"
     },
     "execution_count": 47,
     "metadata": {},
     "output_type": "execute_result"
    }
   ],
   "source": [
    "predictions = model.predict(x_test)\n",
    "yPredClasses = np.argmax(predictions, axis=1)\n",
    "confMat = confusion_matrix(y_test, yPredClasses)\n",
    "confMat"
   ],
   "metadata": {
    "collapsed": false,
    "ExecuteTime": {
     "end_time": "2023-12-18T12:25:29.806883Z",
     "start_time": "2023-12-18T12:25:29.679089Z"
    }
   },
   "id": "f97015b7da5b603d"
  },
  {
   "cell_type": "code",
   "execution_count": 49,
   "outputs": [
    {
     "name": "stdout",
     "output_type": "stream",
     "text": [
      "Accuracy 0.8974358974358975\n",
      "F1-Score 0.7999999999999999\n"
     ]
    }
   ],
   "source": [
    "print('Accuracy', accuracy_score(y_test, yPredClasses))\n",
    "print('F1-Score', f1_score(y_test, yPredClasses))"
   ],
   "metadata": {
    "collapsed": false,
    "ExecuteTime": {
     "end_time": "2023-12-18T12:27:03.474313Z",
     "start_time": "2023-12-18T12:27:03.465812Z"
    }
   },
   "id": "477be1497867fcf3"
  }
 ],
 "metadata": {
  "kernelspec": {
   "display_name": "Python 3",
   "language": "python",
   "name": "python3"
  },
  "language_info": {
   "codemirror_mode": {
    "name": "ipython",
    "version": 2
   },
   "file_extension": ".py",
   "mimetype": "text/x-python",
   "name": "python",
   "nbconvert_exporter": "python",
   "pygments_lexer": "ipython2",
   "version": "2.7.6"
  }
 },
 "nbformat": 4,
 "nbformat_minor": 5
}
